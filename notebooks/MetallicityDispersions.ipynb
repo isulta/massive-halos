{
 "cells": [
  {
   "cell_type": "code",
   "execution_count": 1,
   "id": "c0f830d3-5807-4dc8-bece-0f26ba43bea9",
   "metadata": {
    "execution": {
     "iopub.execute_input": "2024-06-04T07:12:46.006068Z",
     "iopub.status.busy": "2024-06-04T07:12:46.005365Z",
     "iopub.status.idle": "2024-06-04T07:12:56.652032Z",
     "shell.execute_reply": "2024-06-04T07:12:56.650352Z",
     "shell.execute_reply.started": "2024-06-04T07:12:46.005909Z"
    }
   },
   "outputs": [],
   "source": [
    "import numpy as np\n",
    "import matplotlib.pyplot as plt\n",
    "from tqdm import tqdm\n",
    "from joblib import Parallel, delayed\n",
    "from pyevtk.hl import pointsToVTK\n",
    "import smplotlib\n",
    "from scripts.halo_analysis_scripts import *\n",
    "import utilities.coordinate as utc\n",
    "%matplotlib inline\n",
    "plt.rcParams['figure.dpi'] = 110"
   ]
  },
  {
   "cell_type": "code",
   "execution_count": 3,
   "id": "87dc203a-d508-4c5d-bb5b-e44d8f53511f",
   "metadata": {
    "execution": {
     "iopub.execute_input": "2024-06-04T07:13:05.655340Z",
     "iopub.status.busy": "2024-06-04T07:13:05.654875Z",
     "iopub.status.idle": "2024-06-04T07:13:05.663598Z",
     "shell.execute_reply": "2024-06-04T07:13:05.662365Z",
     "shell.execute_reply.started": "2024-06-04T07:13:05.655288Z"
    },
    "tags": []
   },
   "outputs": [],
   "source": [
    "def sim_path_quest(simname):\n",
    "    for d in [\n",
    "        '/projects/b1026/isultan/fire3', \n",
    "        '/projects/b1026/snapshots/fire3_m12_new', \n",
    "        '/projects/b1026/isultan/metal_diffusion',\n",
    "#         '/projects/b1026/isultan/metal_diffusion/cr_heating_fix'\n",
    "    ]:\n",
    "        if os.path.exists(os.path.join(d, simname)):\n",
    "            return os.path.join(d, simname)\n",
    "    raise Exception('Simulation not found on Quest')"
   ]
  },
  {
   "cell_type": "code",
   "execution_count": 4,
   "id": "94ae6c24-e8e1-45d5-9782-3c47578322ac",
   "metadata": {
    "execution": {
     "iopub.execute_input": "2024-06-04T07:13:18.950148Z",
     "iopub.status.busy": "2024-06-04T07:13:18.949626Z",
     "iopub.status.idle": "2024-06-04T07:13:18.961621Z",
     "shell.execute_reply": "2024-06-04T07:13:18.960517Z",
     "shell.execute_reply.started": "2024-06-04T07:13:18.950093Z"
    },
    "tags": []
   },
   "outputs": [],
   "source": [
    "d = '../data/simcachev2_Khist_outflow_selectMainBranch_0.5dex_T1e5cut_nH_Mdot_modecut_MdotIF_jstests_ZLtcool_MdotHF'\n",
    "sims = np.unique(['_'.join(f.split('_')[1:-1]) for f in os.listdir(d)])\n",
    "PaperSimNames = {k:v for k,v in PaperSimNames.items() if v in sims and 'NoBH' in k}\n",
    "plottitles = {k:k.split('_')[0] + (' (FIRE-2)' if 'fire2' in k else ' (FIRE-3)') for k in PaperSimNames.keys()}"
   ]
  },
  {
   "cell_type": "code",
   "execution_count": 7,
   "id": "ac723b50-f472-49e9-8ceb-dbd06187665d",
   "metadata": {
    "execution": {
     "iopub.execute_input": "2024-06-04T07:13:35.027557Z",
     "iopub.status.busy": "2024-06-04T07:13:35.027093Z",
     "iopub.status.idle": "2024-06-04T07:13:35.081768Z",
     "shell.execute_reply": "2024-06-04T07:13:35.080969Z",
     "shell.execute_reply.started": "2024-06-04T07:13:35.027505Z"
    },
    "tags": []
   },
   "outputs": [
    {
     "name": "stdout",
     "output_type": "stream",
     "text": [
      "m12a_NoBH /projects/b1026/snapshots/fire3_m12_new/m12a_r57000\n",
      "m12b_fire2_NoBH /projects/b1026/isultan/metal_diffusion/m12b_r7100\n",
      "m12c_fire2_NoBH /projects/b1026/isultan/metal_diffusion/m12c_r7100\n",
      "m12d_NoBH /projects/b1026/snapshots/fire3_m12_new/m12d_r57000\n",
      "m12e_NoBH /projects/b1026/snapshots/fire3_m12_new/m12e_r57000\n",
      "m12f_NoBH /projects/b1026/isultan/fire3/m12f_m7e3_MHD_fire3_fireBH_Sep182021_hr_crdiffc690_sdp1e10_gacc31_fa0.5\n",
      "m12f_fire2_NoBH /projects/b1026/isultan/metal_diffusion/m12f_r7100\n",
      "m12g_NoBH /projects/b1026/snapshots/fire3_m12_new/m12g_r7100\n",
      "m12i_fire2_NoBH /projects/b1026/isultan/metal_diffusion/m12i_r7100\n",
      "m12i_fire2lowres_NoBH /projects/b1026/isultan/metal_diffusion/m12i_r57000\n",
      "m12j_NoBH /projects/b1026/snapshots/fire3_m12_new/m12j_r7100\n",
      "m12k_NoBH /projects/b1026/snapshots/fire3_m12_new/m12k_r57000\n",
      "m12m_fire2_NoBH /projects/b1026/isultan/metal_diffusion/m12m_r7100\n",
      "m12n_NoBH /projects/b1026/snapshots/fire3_m12_new/m12n_r7100\n",
      "m12q_NoBH /projects/b1026/isultan/fire3/m12q_m7e3_MHD_fire3_fireBH_Sep182021_hr_crdiffc690_sdp1e10_gacc31_fa0.5\n",
      "m12r_NoBH /projects/b1026/isultan/fire3/m12r_m7e3_MHD_fire3_fireBH_Sep182021_hr_crdiffc690_sdp1e10_gacc31_fa0.5\n",
      "m12r_fire2_NoBH /projects/b1026/isultan/metal_diffusion/m12r_r7100\n",
      "m12u_NoBH /projects/b1026/snapshots/fire3_m12_new/m12u_r28000\n",
      "m12w_NoBH /projects/b1026/isultan/fire3/m12w_m7e3_MHD_fire3_fireBH_Sep182021_hr_crdiffc690_sdp1e10_gacc31_fa0.5\n",
      "m12w_fire2_NoBH /projects/b1026/isultan/metal_diffusion/m12w_r7100\n",
      "m12x_NoBH /projects/b1026/snapshots/fire3_m12_new/m12x_r3500\n",
      "m12z_NoBH /projects/b1026/isultan/fire3/m12z_m4e3_MHD_fire3_fireBH_Sep182021_hr_crdiffc690_sdp1e10_gacc31_fa0.5\n",
      "m12z_fire2_NoBH /projects/b1026/isultan/metal_diffusion/m12z_r4200\n",
      "m13h002_NoBH /projects/b1026/isultan/fire3/m13h002_m3e5_MHD_fire3_fireBH_Sep182021_crdiffc690_sdp1e10_gacc31_fa0.5\n",
      "m13h007_NoBH /projects/b1026/isultan/fire3/m13h007_m3e5_MHD_fire3_fireBH_Sep182021_crdiffc690_sdp1e10_gacc31_fa0.5\n",
      "m13h029_NoBH /projects/b1026/isultan/fire3/m13h029_m3e5_MHD_fire3_fireBH_Sep182021_crdiffc690_sdp1e10_gacc31_fa0.5\n",
      "m13h113_NoBH /projects/b1026/isultan/fire3/m13h113_m3e5_MHD_fire3_fireBH_Sep182021_crdiffc690_sdp1e10_gacc31_fa0.5\n",
      "m13h206_NoBH /projects/b1026/isultan/fire3/m13h206_m3e5_MHD_fire3_fireBH_Sep182021_crdiffc690_sdp1e10_gacc31_fa0.5\n",
      "m13h223_NoBH /projects/b1026/isultan/fire3/m13h223_m3e5_MHD_fire3_fireBH_Sep182021_crdiffc690_sdp1e10_gacc31_fa0.5\n",
      "m13h236_NoBH /projects/b1026/isultan/fire3/m13h236_m3e5_MHD_fire3_fireBH_Sep182021_crdiffc690_sdp1e10_gacc31_fa0.5\n"
     ]
    }
   ],
   "source": [
    "simsToPlot = []\n",
    "for k,v in sorted(PaperSimNames.items()):\n",
    "#     if 'm12' not in k or k[3]=='g': continue\n",
    "#     if k[3]=='g': continue\n",
    "    print(k, sim_path_quest(v))\n",
    "    snap = sorted([int(f.split('_')[-1].split('.')[0]) for f in os.listdir(d) if v in f])[-1]\n",
    "    simsToPlot.append((k,snap))"
   ]
  },
  {
   "cell_type": "code",
   "execution_count": 7,
   "id": "08f7e032-133a-46f1-89d4-37501e7558b3",
   "metadata": {
    "execution": {
     "iopub.execute_input": "2024-05-28T20:06:32.242715Z",
     "iopub.status.busy": "2024-05-28T20:06:32.242190Z",
     "iopub.status.idle": "2024-05-28T20:27:47.823348Z",
     "shell.execute_reply": "2024-05-28T20:27:47.821354Z",
     "shell.execute_reply.started": "2024-05-28T20:06:32.242663Z"
    },
    "tags": []
   },
   "outputs": [
    {
     "name": "stderr",
     "output_type": "stream",
     "text": [
      "[Parallel(n_jobs=-1)]: Using backend LokyBackend with 52 concurrent workers.\n",
      "[Parallel(n_jobs=-1)]: Done   4 out of  29 | elapsed:  1.6min remaining:  9.8min\n",
      "[Parallel(n_jobs=-1)]: Done   7 out of  29 | elapsed:  3.0min remaining:  9.4min\n",
      "[Parallel(n_jobs=-1)]: Done  10 out of  29 | elapsed:  4.2min remaining:  7.9min\n",
      "[Parallel(n_jobs=-1)]: Done  13 out of  29 | elapsed:  5.5min remaining:  6.7min\n",
      "[Parallel(n_jobs=-1)]: Done  16 out of  29 | elapsed:  8.3min remaining:  6.7min\n",
      "[Parallel(n_jobs=-1)]: Done  19 out of  29 | elapsed: 10.9min remaining:  5.7min\n",
      "[Parallel(n_jobs=-1)]: Done  22 out of  29 | elapsed: 12.6min remaining:  4.0min\n",
      "[Parallel(n_jobs=-1)]: Done  25 out of  29 | elapsed: 15.9min remaining:  2.5min\n",
      "[Parallel(n_jobs=-1)]: Done  29 out of  29 | elapsed: 21.3min finished\n"
     ]
    }
   ],
   "source": [
    "keys_to_extract = {\n",
    "    0:['Coordinates', 'Masses', 'Density', \n",
    "    'Temperature', 'InternalEnergy', 'CosmicRayEnergy', \n",
    "    'Velocities', 'Metallicity', 'SoundSpeed', 'CoolingRate', 'SmoothingLength', 'MagneticField'],\n",
    "    1:['Coordinates', 'Masses', 'Velocities'],\n",
    "    2:['Coordinates', 'Masses', 'Velocities'],\n",
    "    4:['Coordinates', 'Masses', 'Velocities'],\n",
    "    5:['Coordinates', 'Masses', 'Velocities']\n",
    "}\n",
    "res = Parallel(n_jobs=-1, verbose=10)(delayed(load_allparticles)(sim_path_quest(PaperSimNames[k]), s, [0,1,2,4,5], keys_to_extract=keys_to_extract, loud=0) for k,s in simsToPlot)"
   ]
  }
 ],
 "metadata": {
  "kernelspec": {
   "display_name": "Python 3 (ipykernel)",
   "language": "python",
   "name": "python3"
  },
  "language_info": {
   "codemirror_mode": {
    "name": "ipython",
    "version": 3
   },
   "file_extension": ".py",
   "mimetype": "text/x-python",
   "name": "python",
   "nbconvert_exporter": "python",
   "pygments_lexer": "ipython3",
   "version": "3.9.6"
  }
 },
 "nbformat": 4,
 "nbformat_minor": 5
}
