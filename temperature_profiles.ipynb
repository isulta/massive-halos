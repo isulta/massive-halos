{
 "cells": [
  {
   "cell_type": "code",
   "execution_count": 1,
   "metadata": {},
   "outputs": [],
   "source": [
    "import sys\n",
    "sys.path.insert(1, '/home/ias627/tools')"
   ]
  },
  {
   "cell_type": "code",
   "execution_count": 2,
   "metadata": {},
   "outputs": [],
   "source": [
    "from abg_python.snapshot_utils import openSnapshot, get_fnames\n",
    "from abg_python.cosmo_utils import load_AHF\n",
    "import numpy as np\n",
    "import matplotlib.pyplot as plt"
   ]
  },
  {
   "cell_type": "code",
   "execution_count": 3,
   "metadata": {},
   "outputs": [],
   "source": [
    "def inrange(a, ra):\n",
    "    a1, a2 = ra\n",
    "    return (a1 <= a)&(a <= a2)"
   ]
  },
  {
   "cell_type": "code",
   "execution_count": 4,
   "metadata": {},
   "outputs": [],
   "source": [
    "#h2_HR_sn1dy300ro100ss/snapdir_277"
   ]
  },
  {
   "cell_type": "code",
   "execution_count": 5,
   "metadata": {},
   "outputs": [
    {
     "name": "stdout",
     "output_type": "stream",
     "text": [
      "/projects/b1026/isultan/sim/snapdir_277/snapshot_277.0.hdf5\n",
      "This is a cosmological snapshot... converting to physical units\n",
      "/projects/b1026/isultan/sim/snapdir_277/snapshot_277.1.hdf5\n",
      "/projects/b1026/isultan/sim/snapdir_277/snapshot_277.2.hdf5\n",
      "/projects/b1026/isultan/sim/snapdir_277/snapshot_277.3.hdf5\n"
     ]
    }
   ],
   "source": [
    "p0 = openSnapshot('/projects/b1026/isultan/sim/', 277, 0, loud=1)"
   ]
  },
  {
   "cell_type": "code",
   "execution_count": 6,
   "metadata": {},
   "outputs": [],
   "source": [
    "posC, Rvir = load_AHF('/projects/b1026/isultan/sim/', 277, 1, hubble=p0['HubbleParam'], extra_names_to_read=[])"
   ]
  },
  {
   "cell_type": "code",
   "execution_count": 7,
   "metadata": {},
   "outputs": [],
   "source": [
    "# position relative to center\n",
    "p0['CoordinatesRelative'] = p0['Coordinates'] - posC"
   ]
  },
  {
   "cell_type": "code",
   "execution_count": 8,
   "metadata": {},
   "outputs": [],
   "source": [
    "# distance from halo center\n",
    "p0['r'] = np.linalg.norm(p0['CoordinatesRelative'], axis=1)"
   ]
  },
  {
   "cell_type": "code",
   "execution_count": 9,
   "metadata": {},
   "outputs": [],
   "source": [
    "# distance from halo center in units of virial radius\n",
    "p0['r_scaled'] = p0['r']/Rvir"
   ]
  },
  {
   "cell_type": "code",
   "execution_count": 10,
   "metadata": {},
   "outputs": [],
   "source": [
    "# volume of each particle\n",
    "p0['Vi'] = p0['Masses']/p0['Density']"
   ]
  },
  {
   "cell_type": "code",
   "execution_count": 11,
   "metadata": {},
   "outputs": [],
   "source": [
    "Tmask = p0['Temperature'] >= 1e5"
   ]
  },
  {
   "cell_type": "code",
   "execution_count": 12,
   "metadata": {},
   "outputs": [],
   "source": [
    "rbins = np.logspace(np.log10(0.01), np.log10(1.1), 100)\n",
    "# rbins = np.linspace(0, 1.1, 100)\n",
    "\n",
    "rmid = (rbins[:-1]+rbins[1:])/2\n",
    "Tbins = []\n",
    "\n",
    "for r0,r1 in zip(rbins[:-1],rbins[1:]):\n",
    "    idx = np.flatnonzero(Tmask & inrange( p0['r_scaled'], (r0, r1) ))\n",
    "    Tavg = np.sum(p0['Temperature'][idx] * p0['Vi'][idx])/np.sum(p0['Vi'][idx])\n",
    "    Tbins.append(Tavg)"
   ]
  },
  {
   "cell_type": "code",
   "execution_count": 13,
   "metadata": {},
   "outputs": [
    {
     "data": {
      "text/plain": [
       "Text(0.5, 1.0, '$z=1.0$')"
      ]
     },
     "execution_count": 13,
     "metadata": {},
     "output_type": "execute_result"
    },
    {
     "data": {
      "image/png": "[encoded data removed]",
      "text/plain": [
       "<Figure size 720x480 with 1 Axes>"
      ]
     },
     "metadata": {
      "needs_background": "light"
     },
     "output_type": "display_data"
    }
   ],
   "source": [
    "plt.figure(dpi=120)\n",
    "plt.plot(np.log10(rmid), np.log10(Tbins), '.', label='h2_HR_sn1dy300ro100ss')\n",
    "plt.xlabel(r'$\\log (r/R_{vir})$')\n",
    "plt.ylabel(r'$\\log \\left(\\left<T\\right>/\\mathrm{K}\\right)$')\n",
    "plt.legend()\n",
    "plt.title(f'$z={np.round(p0[\"Redshift\"],2)}$')"
   ]
  },
  {
   "cell_type": "code",
   "execution_count": null,
   "metadata": {},
   "outputs": [],
   "source": []
  }
 ],
 "metadata": {
  "kernelspec": {
   "display_name": "Python 3",
   "language": "python",
   "name": "python3"
  },
  "language_info": {
   "codemirror_mode": {
    "name": "ipython",
    "version": 3
   },
   "file_extension": ".py",
   "mimetype": "text/x-python",
   "name": "python",
   "nbconvert_exporter": "python",
   "pygments_lexer": "ipython3",
   "version": "3.6.12"
  }
 },
 "nbformat": 4,
 "nbformat_minor": 4
}
