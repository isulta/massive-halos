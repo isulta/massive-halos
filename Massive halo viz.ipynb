{
 "cells": [
  {
   "cell_type": "code",
   "execution_count": 1,
   "metadata": {},
   "outputs": [],
   "source": [
    "import sys\n",
    "sys.path.insert(1, '/home/jovyan/home/tools')\n",
    "sys.path.insert(1, '/home/jovyan/home/tools/abg_python')\n",
    "sys.path.insert(1, '/home/jovyan/home/projects/massive-halos/scripts')\n",
    "sys.path.insert(1, '/home/jovyan/home/tools/FIRE_studio')"
   ]
  },
  {
   "cell_type": "code",
   "execution_count": 2,
   "metadata": {},
   "outputs": [
    {
     "name": "stdout",
     "output_type": "stream",
     "text": [
      "palettable colormaps are not installed\n",
      "don't have phil's colormaps\n",
      "missing firefly api\n"
     ]
    }
   ],
   "source": [
    "import numpy as np\n",
    "import matplotlib.pyplot as plt\n",
    "from tqdm import tqdm\n",
    "from halo_analysis_scripts import load_p0_allsnaps, CCA_sims, redshifts_snapshots\n",
    "from firestudio.studios.gas_studio import GasStudio\n",
    "%matplotlib inline"
   ]
  },
  {
   "cell_type": "code",
   "execution_count": 9,
   "metadata": {},
   "outputs": [
    {
     "data": {
      "text/plain": [
       "array([9.90000000e+01, 9.99999890e+00, 9.00000000e+00, 8.00000090e+00,\n",
       "       7.00000000e+00, 6.00000210e+00, 5.77419573e+00, 5.63157678e+00,\n",
       "       5.42856959e+00, 5.17646913e+00, 4.99999880e+00, 4.77981561e+00,\n",
       "       4.57522060e+00, 4.38461497e+00, 4.20661136e+00, 4.00000000e+00,\n",
       "       3.88549618e+00, 3.81203008e+00, 3.70588235e+00, 3.60431655e+00,\n",
       "       3.50704225e+00, 3.41379310e+00, 3.29530201e+00, 3.21052632e+00,\n",
       "       3.10256410e+00, 3.00000000e+00, 2.89999934e+00, 2.80487823e+00,\n",
       "       2.69230815e+00, 2.60693628e+00, 2.50561810e+00, 2.39130429e+00,\n",
       "       2.30158747e+00, 2.20000000e+00, 2.10447746e+00, 2.00000030e+00,\n",
       "       1.90322618e+00, 1.79999966e+00, 1.70386244e+00, 1.60330568e+00,\n",
       "       1.50000000e+00, 1.39543736e+00, 1.29927026e+00, 1.20279698e+00,\n",
       "       1.09999990e+00, 1.00000000e+00, 8.97280836e-01, 7.99426883e-01,\n",
       "       7.01897071e-01, 5.97964321e-01, 4.98806575e-01, 3.98663605e-01,\n",
       "       3.00207006e-01, 2.00764887e-01, 9.98248309e-02, 5.01672234e-02,\n",
       "       3.97351420e-02, 2.95081751e-02, 1.94805400e-02, 9.64626135e-03,\n",
       "       0.00000000e+00])"
      ]
     },
     "execution_count": 9,
     "metadata": {},
     "output_type": "execute_result"
    }
   ],
   "source": [
    "redshifts_snapshots(CCA_sims['push']['h206'])"
   ]
  },
  {
   "cell_type": "code",
   "execution_count": 4,
   "metadata": {
    "scrolled": true
   },
   "outputs": [
    {
     "name": "stderr",
     "output_type": "stream",
     "text": [
      "100%|██████████| 46/46 [05:19<00:00,  6.95s/it]\n"
     ]
    }
   ],
   "source": [
    "p0_allsnaps_h206_push = load_p0_allsnaps(CCA_sims['push']['h206']+'/output', 46)\n",
    "p0_allsnaps_h206_spawn = load_p0_allsnaps(CCA_sims['spawn']['h206']+'/output', 46)\n",
    "p0_allsnaps_h206_jet = load_p0_allsnaps(CCA_sims['jet']['h206']+'/output', 46)"
   ]
  },
  {
   "cell_type": "code",
   "execution_count": 22,
   "metadata": {
    "scrolled": true
   },
   "outputs": [],
   "source": [
    "def vizgen(p0_allsnaps, sim_name, datadir='vizdata', outdir='vizimages', boxsize=100, frame_half_thickness=20, tmin=3, tmax=8):\n",
    "    for snapnum, p0 in enumerate(tqdm(p0_allsnaps)):\n",
    "        fig, ax = plt.subplots(1, 1, figsize=[4.8,4.8], dpi=150)\n",
    "        gaspart = {}\n",
    "        gaspart['Coordinates'] = p0['CoordinatesRelative']\n",
    "        gaspart['Masses'] = p0['Masses'] / 1.e10\n",
    "        gaspart['Metallicity'] = p0['Metallicity']\n",
    "        gaspart['SmoothingLength'] = p0['SmoothingLength']\n",
    "        gaspart['BoxSize'] = boxsize\n",
    "        gaspart['Temperature'] = p0['Temperature']\n",
    "        gaspart['logT'] = np.log10(p0['Temperature'])\n",
    "\n",
    "        gasStudio = GasStudio(\n",
    "            datadir=datadir, \n",
    "            snapnum=snapnum,\n",
    "            sim_name=sim_name,\n",
    "            gas_snapdict = gaspart,\n",
    "            frame_half_width = boxsize//2,\n",
    "            frame_half_thickness = frame_half_thickness,\n",
    "            loud=False)\n",
    "\n",
    "        gasStudio.render(ax=ax, \n",
    "                     weight_name='Masses',\n",
    "                     quantity_name='logT',\n",
    "                     min_quantity=tmin,\n",
    "                     max_quantity=tmax,\n",
    "                     cmap='plasma',\n",
    "                     use_metadata=False)\n",
    "        plt.title(f\"z={np.around(p0['Redshift'])}\")\n",
    "        plt.savefig(f'{outdir}/{sim_name}_{str(snapnum).zfill(3)}.png')\n",
    "        plt.close()"
   ]
  },
  {
   "cell_type": "code",
   "execution_count": 23,
   "metadata": {},
   "outputs": [
    {
     "name": "stderr",
     "output_type": "stream",
     "text": [
      "\r",
      "  0%|          | 0/46 [00:00<?, ?it/s]"
     ]
    },
    {
     "name": "stdout",
     "output_type": "stream",
     "text": [
      "Couldn't find a metadata file... for\n",
      " Metadata object at vizdata/h206_jet_proj_maps_000.hdf5\n",
      "projecting 3005083 particles\n",
      "------------------------------------------\n",
      "------------------------------------------\n",
      "minmax(weightMap) 0.0 2.1039382e-14\n",
      "Fraction deposited: 1.0000026\n",
      "minmax(weightWeightedQuantityMap) 0.0 0.0\n",
      "-done\n",
      "inner_weight_along_los(GasStudio instance, None, 'Masses', None, 'logT'){} 12.00 s elapsed\n",
      "min_logT =  3\n",
      "max_logT =  8\n",
      "Image range (logT):  2.2113361 2.2402656\n",
      "Image range (8bit):  0.0 0.0\n"
     ]
    },
    {
     "name": "stderr",
     "output_type": "stream",
     "text": [
      "/home/jovyan/home/tools/FIRE_studio/firestudio/studios/gas_studio.py:782: RuntimeWarning: invalid value encountered in true_divide\n",
      "  weightWeightedQuantityMap = weightWeightedQuantityMap/weightMap\n",
      "  2%|▏         | 1/46 [00:14<10:55, 14.57s/it]"
     ]
    },
    {
     "name": "stdout",
     "output_type": "stream",
     "text": [
      "Couldn't find a metadata file... for\n",
      " Metadata object at vizdata/h206_jet_proj_maps_001.hdf5\n",
      "projecting 70627 particles\n",
      "------------------------------------------\n",
      "------------------------------------------\n",
      "minmax(weightMap) 0.0 1.970092e-14\n",
      "Fraction deposited: 0.9999999\n",
      "minmax(weightWeightedQuantityMap) 0.0 0.0\n",
      "-done\n",
      "inner_weight_along_los(GasStudio instance, None, 'Masses', None, 'logT'){} 4.56 s elapsed\n",
      "min_logT =  3\n",
      "max_logT =  8\n",
      "Image range (logT):  2.0820074 5.462628\n",
      "Image range (8bit):  0.0 125.594025\n"
     ]
    },
    {
     "name": "stderr",
     "output_type": "stream",
     "text": [
      "\r",
      "  4%|▍         | 2/46 [00:21<07:28, 10.19s/it]"
     ]
    },
    {
     "name": "stdout",
     "output_type": "stream",
     "text": [
      "Couldn't find a metadata file... for\n",
      " Metadata object at vizdata/h206_jet_proj_maps_002.hdf5\n",
      "projecting 74299 particles\n",
      "------------------------------------------\n",
      "------------------------------------------\n",
      "minmax(weightMap) 0.0 5.4051547e-14\n",
      "Fraction deposited: 1.0000001\n",
      "minmax(weightWeightedQuantityMap) 0.0 0.0\n",
      "-done\n",
      "inner_weight_along_los(GasStudio instance, None, 'Masses', None, 'logT'){} 4.51 s elapsed\n",
      "min_logT =  3\n",
      "max_logT =  8\n",
      "Image range (logT):  1.6825296 5.5203547\n",
      "Image range (8bit):  0.0 128.53809\n"
     ]
    },
    {
     "name": "stderr",
     "output_type": "stream",
     "text": [
      "\r",
      "  7%|▋         | 3/46 [00:28<06:16,  8.75s/it]"
     ]
    },
    {
     "name": "stdout",
     "output_type": "stream",
     "text": [
      "Couldn't find a metadata file... for\n",
      " Metadata object at vizdata/h206_jet_proj_maps_003.hdf5\n",
      "projecting 84186 particles\n",
      "------------------------------------------\n",
      "------------------------------------------\n",
      "minmax(weightMap) 0.0 2.3932684e-13\n",
      "Fraction deposited: 1.0\n",
      "minmax(weightWeightedQuantityMap) 0.0 0.0\n",
      "-done\n",
      "inner_weight_along_los(GasStudio instance, None, 'Masses', None, 'logT'){} 4.65 s elapsed\n",
      "min_logT =  3\n",
      "max_logT =  8\n",
      "Image range (logT):  1.7656164 5.4828653\n",
      "Image range (8bit):  0.0 126.62613\n"
     ]
    },
    {
     "name": "stderr",
     "output_type": "stream",
     "text": [
      "\r",
      "  9%|▊         | 4/46 [00:35<05:41,  8.13s/it]"
     ]
    },
    {
     "name": "stdout",
     "output_type": "stream",
     "text": [
      "Couldn't find a metadata file... for\n",
      " Metadata object at vizdata/h206_jet_proj_maps_004.hdf5\n",
      "projecting 93466 particles\n",
      "------------------------------------------\n",
      "------------------------------------------\n",
      "minmax(weightMap) 0.0 7.700467e-14\n",
      "Fraction deposited: 1.0000001\n",
      "minmax(weightWeightedQuantityMap) 0.0 0.0\n",
      "-done\n",
      "inner_weight_along_los(GasStudio instance, None, 'Masses', None, 'logT'){} 4.65 s elapsed\n",
      "min_logT =  3\n",
      "max_logT =  8\n",
      "Image range (logT):  1.9557431 5.7613864\n",
      "Image range (8bit):  0.0 140.8307\n"
     ]
    },
    {
     "name": "stderr",
     "output_type": "stream",
     "text": [
      "\r",
      " 11%|█         | 5/46 [00:43<05:19,  7.80s/it]"
     ]
    },
    {
     "name": "stdout",
     "output_type": "stream",
     "text": [
      "Couldn't find a metadata file... for\n",
      " Metadata object at vizdata/h206_jet_proj_maps_005.hdf5\n",
      "projecting 93546 particles\n",
      "------------------------------------------\n",
      "------------------------------------------\n",
      "minmax(weightMap) 0.0 1.1262341e-13\n",
      "Fraction deposited: 0.9999999\n",
      "minmax(weightWeightedQuantityMap) 0.0 0.0\n",
      "-done\n",
      "inner_weight_along_los(GasStudio instance, None, 'Masses', None, 'logT'){} 4.61 s elapsed\n",
      "min_logT =  3\n",
      "max_logT =  8\n",
      "Image range (logT):  1.7915365 5.7842436\n",
      "Image range (8bit):  0.0 141.99641\n"
     ]
    },
    {
     "name": "stderr",
     "output_type": "stream",
     "text": [
      "\r",
      " 13%|█▎        | 6/46 [00:50<05:03,  7.59s/it]"
     ]
    },
    {
     "name": "stdout",
     "output_type": "stream",
     "text": [
      "Couldn't find a metadata file... for\n",
      " Metadata object at vizdata/h206_jet_proj_maps_006.hdf5\n",
      "projecting 92972 particles\n",
      "------------------------------------------\n",
      "------------------------------------------\n",
      "minmax(weightMap) 0.0 1.2727897e-13\n",
      "Fraction deposited: 1.0000002\n",
      "minmax(weightWeightedQuantityMap) 0.0 0.0\n",
      "-done\n",
      "inner_weight_along_los(GasStudio instance, None, 'Masses', None, 'logT'){} 4.34 s elapsed\n",
      "min_logT =  3\n",
      "max_logT =  8\n",
      "Image range (logT):  2.2437541 5.83512\n",
      "Image range (8bit):  0.0 144.59114\n"
     ]
    },
    {
     "name": "stderr",
     "output_type": "stream",
     "text": [
      "\r",
      " 15%|█▌        | 7/46 [00:57<04:47,  7.37s/it]"
     ]
    },
    {
     "name": "stdout",
     "output_type": "stream",
     "text": [
      "Couldn't find a metadata file... for\n",
      " Metadata object at vizdata/h206_jet_proj_maps_007.hdf5\n",
      "projecting 94717 particles\n",
      "------------------------------------------\n",
      "------------------------------------------\n",
      "minmax(weightMap) 0.0 2.3221784e-13\n",
      "Fraction deposited: 1.0\n",
      "minmax(weightWeightedQuantityMap) 0.0 0.0\n",
      "-done\n",
      "inner_weight_along_los(GasStudio instance, None, 'Masses', None, 'logT'){} 4.44 s elapsed\n",
      "min_logT =  3\n",
      "max_logT =  8\n",
      "Image range (logT):  2.1851892 6.0725064\n",
      "Image range (8bit):  0.0 156.69783\n"
     ]
    },
    {
     "name": "stderr",
     "output_type": "stream",
     "text": [
      "\r",
      " 17%|█▋        | 8/46 [01:04<04:34,  7.23s/it]"
     ]
    },
    {
     "name": "stdout",
     "output_type": "stream",
     "text": [
      "Couldn't find a metadata file... for\n",
      " Metadata object at vizdata/h206_jet_proj_maps_008.hdf5\n",
      "projecting 98228 particles\n",
      "------------------------------------------\n",
      "------------------------------------------\n",
      "minmax(weightMap) 0.0 7.6725715e-14\n",
      "Fraction deposited: 0.9999999\n",
      "minmax(weightWeightedQuantityMap) 0.0 0.0\n",
      "-done\n",
      "inner_weight_along_los(GasStudio instance, None, 'Masses', None, 'logT'){} 4.60 s elapsed\n",
      "min_logT =  3\n",
      "max_logT =  8\n",
      "Image range (logT):  1.9942397 6.2664933\n",
      "Image range (8bit):  0.0 166.59116\n"
     ]
    },
    {
     "name": "stderr",
     "output_type": "stream",
     "text": [
      "\r",
      " 20%|█▉        | 9/46 [01:11<04:26,  7.19s/it]"
     ]
    },
    {
     "name": "stdout",
     "output_type": "stream",
     "text": [
      "Couldn't find a metadata file... for\n",
      " Metadata object at vizdata/h206_jet_proj_maps_009.hdf5\n",
      "projecting 105602 particles\n",
      "------------------------------------------\n",
      "------------------------------------------\n",
      "minmax(weightMap) 0.0 1.1985507e-13\n",
      "Fraction deposited: 0.9999999\n",
      "minmax(weightWeightedQuantityMap) 0.0 0.0\n",
      "-done\n",
      "inner_weight_along_los(GasStudio instance, None, 'Masses', None, 'logT'){} 4.95 s elapsed\n",
      "min_logT =  3\n",
      "max_logT =  8\n",
      "Image range (logT):  2.191819 6.735614\n",
      "Image range (8bit):  0.0 190.51631\n"
     ]
    },
    {
     "name": "stderr",
     "output_type": "stream",
     "text": [
      "\r",
      " 22%|██▏       | 10/46 [01:18<04:22,  7.29s/it]"
     ]
    },
    {
     "name": "stdout",
     "output_type": "stream",
     "text": [
      "Couldn't find a metadata file... for\n",
      " Metadata object at vizdata/h206_jet_proj_maps_010.hdf5\n",
      "projecting 112296 particles\n",
      "------------------------------------------\n",
      "------------------------------------------\n",
      "minmax(weightMap) 0.0 1.4006835e-13\n",
      "Fraction deposited: 0.9999999\n",
      "minmax(weightWeightedQuantityMap) 0.0 0.0\n",
      "-done\n",
      "inner_weight_along_los(GasStudio instance, None, 'Masses', None, 'logT'){} 5.30 s elapsed\n",
      "min_logT =  3\n",
      "max_logT =  8\n",
      "Image range (logT):  1.7509644 6.720743\n",
      "Image range (8bit):  0.0 189.75789\n"
     ]
    },
    {
     "name": "stderr",
     "output_type": "stream",
     "text": [
      "\r",
      " 24%|██▍       | 11/46 [01:26<04:24,  7.57s/it]"
     ]
    },
    {
     "name": "stdout",
     "output_type": "stream",
     "text": [
      "Couldn't find a metadata file... for\n",
      " Metadata object at vizdata/h206_jet_proj_maps_011.hdf5\n",
      "projecting 120299 particles\n",
      "------------------------------------------\n",
      "------------------------------------------\n",
      "minmax(weightMap) 0.0 2.3140753e-13\n",
      "Fraction deposited: 1.0\n",
      "minmax(weightWeightedQuantityMap) 0.0 0.0\n",
      "-done\n",
      "inner_weight_along_los(GasStudio instance, None, 'Masses', None, 'logT'){} 5.60 s elapsed\n",
      "min_logT =  3\n",
      "max_logT =  8\n",
      "Image range (logT):  2.1653416 6.720441\n",
      "Image range (8bit):  0.0 189.74248\n"
     ]
    },
    {
     "name": "stderr",
     "output_type": "stream",
     "text": [
      "\r",
      " 26%|██▌       | 12/46 [01:35<04:23,  7.74s/it]"
     ]
    },
    {
     "name": "stdout",
     "output_type": "stream",
     "text": [
      "Couldn't find a metadata file... for\n",
      " Metadata object at vizdata/h206_jet_proj_maps_012.hdf5\n",
      "projecting 145493 particles\n",
      "------------------------------------------\n",
      "------------------------------------------\n",
      "minmax(weightMap) 0.0 2.2288062e-13\n",
      "Fraction deposited: 1.0\n",
      "minmax(weightWeightedQuantityMap) 0.0 0.0\n",
      "-done\n",
      "inner_weight_along_los(GasStudio instance, None, 'Masses', None, 'logT'){} 5.59 s elapsed\n",
      "min_logT =  3\n",
      "max_logT =  8\n",
      "Image range (logT):  2.3614023 6.971411\n",
      "Image range (8bit):  0.0 202.54198\n"
     ]
    },
    {
     "name": "stderr",
     "output_type": "stream",
     "text": [
      "\r",
      " 28%|██▊       | 13/46 [01:43<04:19,  7.85s/it]"
     ]
    },
    {
     "name": "stdout",
     "output_type": "stream",
     "text": [
      "Couldn't find a metadata file... for\n",
      " Metadata object at vizdata/h206_jet_proj_maps_013.hdf5\n",
      "projecting 208019 particles\n",
      "------------------------------------------\n",
      "------------------------------------------\n",
      "minmax(weightMap) 0.0 5.3421774e-13\n",
      "Fraction deposited: 0.9999998\n",
      "minmax(weightWeightedQuantityMap) 0.0 0.0\n",
      "-done\n",
      "inner_weight_along_los(GasStudio instance, None, 'Masses', None, 'logT'){} 5.58 s elapsed\n",
      "min_logT =  3\n",
      "max_logT =  8\n",
      "Image range (logT):  1.8914129 7.049289\n",
      "Image range (8bit):  0.0 206.51375\n"
     ]
    },
    {
     "name": "stderr",
     "output_type": "stream",
     "text": [
      "\r",
      " 30%|███       | 14/46 [01:51<04:14,  7.94s/it]"
     ]
    },
    {
     "name": "stdout",
     "output_type": "stream",
     "text": [
      "Couldn't find a metadata file... for\n",
      " Metadata object at vizdata/h206_jet_proj_maps_014.hdf5\n",
      "projecting 157203 particles\n",
      "------------------------------------------\n",
      "------------------------------------------\n",
      "minmax(weightMap) 0.0 4.25525e-13\n",
      "Fraction deposited: 1.0000002\n",
      "minmax(weightWeightedQuantityMap) 0.0 0.0\n",
      "-done\n",
      "inner_weight_along_los(GasStudio instance, None, 'Masses', None, 'logT'){} 5.36 s elapsed\n",
      "min_logT =  3\n",
      "max_logT =  8\n",
      "Image range (logT):  2.1121042 6.778535\n",
      "Image range (8bit):  0.0 192.70528\n"
     ]
    },
    {
     "name": "stderr",
     "output_type": "stream",
     "text": [
      "\r",
      " 33%|███▎      | 15/46 [01:59<04:06,  7.94s/it]"
     ]
    },
    {
     "name": "stdout",
     "output_type": "stream",
     "text": [
      "Couldn't find a metadata file... for\n",
      " Metadata object at vizdata/h206_jet_proj_maps_015.hdf5\n",
      "projecting 112032 particles\n",
      "------------------------------------------\n",
      "------------------------------------------\n",
      "minmax(weightMap) 0.0 2.1644736e-13\n",
      "Fraction deposited: 1.0\n",
      "minmax(weightWeightedQuantityMap) 0.0 0.0\n",
      "-done\n",
      "inner_weight_along_los(GasStudio instance, None, 'Masses', None, 'logT'){} 5.34 s elapsed\n",
      "min_logT =  3\n",
      "max_logT =  8\n",
      "Image range (logT):  2.250121 7.0920043\n",
      "Image range (8bit):  0.0 208.69221\n"
     ]
    },
    {
     "name": "stderr",
     "output_type": "stream",
     "text": [
      "\r",
      " 35%|███▍      | 16/46 [02:07<03:58,  7.94s/it]"
     ]
    },
    {
     "name": "stdout",
     "output_type": "stream",
     "text": [
      "Couldn't find a metadata file... for\n",
      " Metadata object at vizdata/h206_jet_proj_maps_016.hdf5\n",
      "projecting 109034 particles\n",
      "------------------------------------------\n",
      "------------------------------------------\n",
      "minmax(weightMap) 0.0 1.8913805e-13\n",
      "Fraction deposited: 1.0\n",
      "minmax(weightWeightedQuantityMap) 0.0 0.0\n",
      "-done\n",
      "inner_weight_along_los(GasStudio instance, None, 'Masses', None, 'logT'){} 5.39 s elapsed\n",
      "min_logT =  3\n",
      "max_logT =  8\n",
      "Image range (logT):  1.9763782 7.73129\n",
      "Image range (8bit):  0.0 241.29578\n"
     ]
    },
    {
     "name": "stderr",
     "output_type": "stream",
     "text": [
      "\r",
      " 37%|███▋      | 17/46 [02:15<03:50,  7.94s/it]"
     ]
    },
    {
     "name": "stdout",
     "output_type": "stream",
     "text": [
      "Couldn't find a metadata file... for\n",
      " Metadata object at vizdata/h206_jet_proj_maps_017.hdf5\n",
      "projecting 118834 particles\n",
      "------------------------------------------\n",
      "------------------------------------------\n",
      "minmax(weightMap) 0.0 2.9051596e-13\n",
      "Fraction deposited: 0.99999994\n",
      "minmax(weightWeightedQuantityMap) 0.0 0.0\n",
      "-done\n",
      "inner_weight_along_los(GasStudio instance, None, 'Masses', None, 'logT'){} 5.43 s elapsed\n",
      "min_logT =  3\n",
      "max_logT =  8\n",
      "Image range (logT):  1.8901905 7.2293196\n",
      "Image range (8bit):  0.0 215.6953\n"
     ]
    },
    {
     "name": "stderr",
     "output_type": "stream",
     "text": [
      "\r",
      " 39%|███▉      | 18/46 [02:23<03:42,  7.96s/it]"
     ]
    },
    {
     "name": "stdout",
     "output_type": "stream",
     "text": [
      "Couldn't find a metadata file... for\n",
      " Metadata object at vizdata/h206_jet_proj_maps_018.hdf5\n",
      "projecting 117654 particles\n",
      "------------------------------------------\n",
      "------------------------------------------\n",
      "minmax(weightMap) 0.0 1.03254915e-13\n",
      "Fraction deposited: 0.9999996\n",
      "minmax(weightWeightedQuantityMap) 0.0 0.0\n",
      "-done\n",
      "inner_weight_along_los(GasStudio instance, None, 'Masses', None, 'logT'){} 5.44 s elapsed\n",
      "min_logT =  3\n",
      "max_logT =  8\n",
      "Image range (logT):  2.0595622 7.4139996\n",
      "Image range (8bit):  0.0 225.11398\n"
     ]
    },
    {
     "name": "stderr",
     "output_type": "stream",
     "text": [
      "\r",
      " 41%|████▏     | 19/46 [02:31<03:34,  7.96s/it]"
     ]
    },
    {
     "name": "stdout",
     "output_type": "stream",
     "text": [
      "Couldn't find a metadata file... for\n",
      " Metadata object at vizdata/h206_jet_proj_maps_019.hdf5\n",
      "projecting 110229 particles\n",
      "------------------------------------------\n",
      "------------------------------------------\n",
      "minmax(weightMap) 0.0 3.6168418e-13\n",
      "Fraction deposited: 1.0000001\n",
      "minmax(weightWeightedQuantityMap) 0.0 0.0\n",
      "-done\n",
      "inner_weight_along_los(GasStudio instance, None, 'Masses', None, 'logT'){} 5.24 s elapsed\n",
      "min_logT =  3\n",
      "max_logT =  8\n",
      "Image range (logT):  2.0803003 7.2415876\n",
      "Image range (8bit):  0.0 216.32097\n"
     ]
    },
    {
     "name": "stderr",
     "output_type": "stream",
     "text": [
      "\r",
      " 43%|████▎     | 20/46 [02:38<03:26,  7.93s/it]"
     ]
    },
    {
     "name": "stdout",
     "output_type": "stream",
     "text": [
      "Couldn't find a metadata file... for\n",
      " Metadata object at vizdata/h206_jet_proj_maps_020.hdf5\n",
      "projecting 104024 particles\n",
      "------------------------------------------\n",
      "------------------------------------------\n",
      "minmax(weightMap) 0.0 2.355468e-13\n",
      "Fraction deposited: 1.0000002\n",
      "minmax(weightWeightedQuantityMap) 0.0 0.0\n",
      "-done\n",
      "inner_weight_along_los(GasStudio instance, None, 'Masses', None, 'logT'){} 5.22 s elapsed\n",
      "min_logT =  3\n",
      "max_logT =  8\n",
      "Image range (logT):  2.0334928 7.3732\n",
      "Image range (8bit):  0.0 223.0332\n"
     ]
    },
    {
     "name": "stderr",
     "output_type": "stream",
     "text": [
      "\r",
      " 46%|████▌     | 21/46 [02:46<03:17,  7.89s/it]"
     ]
    },
    {
     "name": "stdout",
     "output_type": "stream",
     "text": [
      "Couldn't find a metadata file... for\n",
      " Metadata object at vizdata/h206_jet_proj_maps_021.hdf5\n",
      "projecting 116656 particles\n",
      "------------------------------------------\n",
      "------------------------------------------\n",
      "minmax(weightMap) 0.0 9.9970115e-14\n",
      "Fraction deposited: 1.0000005\n",
      "minmax(weightWeightedQuantityMap) 0.0 0.0\n",
      "-done\n",
      "inner_weight_along_los(GasStudio instance, None, 'Masses', None, 'logT'){} 5.46 s elapsed\n",
      "min_logT =  3\n",
      "max_logT =  8\n",
      "Image range (logT):  1.4843467 7.170173\n",
      "Image range (8bit):  0.0 212.67883\n"
     ]
    },
    {
     "name": "stderr",
     "output_type": "stream",
     "text": [
      "\r",
      " 48%|████▊     | 22/46 [02:54<03:10,  7.95s/it]"
     ]
    },
    {
     "name": "stdout",
     "output_type": "stream",
     "text": [
      "Couldn't find a metadata file... for\n",
      " Metadata object at vizdata/h206_jet_proj_maps_022.hdf5\n",
      "projecting 113340 particles\n",
      "------------------------------------------\n",
      "------------------------------------------\n",
      "minmax(weightMap) 0.0 1.2659181e-13\n",
      "Fraction deposited: 1.0000001\n",
      "minmax(weightWeightedQuantityMap) 0.0 0.0\n",
      "-done\n",
      "inner_weight_along_los(GasStudio instance, None, 'Masses', None, 'logT'){} 5.49 s elapsed\n",
      "min_logT =  3\n",
      "max_logT =  8\n",
      "Image range (logT):  2.206582 6.7340536\n",
      "Image range (8bit):  0.0 190.43674\n"
     ]
    },
    {
     "name": "stderr",
     "output_type": "stream",
     "text": [
      "\r",
      " 50%|█████     | 23/46 [03:02<03:03,  7.98s/it]"
     ]
    },
    {
     "name": "stdout",
     "output_type": "stream",
     "text": [
      "Couldn't find a metadata file... for\n",
      " Metadata object at vizdata/h206_jet_proj_maps_023.hdf5\n",
      "projecting 113655 particles\n",
      "------------------------------------------\n",
      "------------------------------------------\n",
      "minmax(weightMap) 0.0 1.6619875e-13\n",
      "Fraction deposited: 1.0000001\n",
      "minmax(weightWeightedQuantityMap) 0.0 0.0\n",
      "-done\n",
      "inner_weight_along_los(GasStudio instance, None, 'Masses', None, 'logT'){} 5.61 s elapsed\n",
      "min_logT =  3\n",
      "max_logT =  8\n",
      "Image range (logT):  2.1953297 6.880168\n",
      "Image range (8bit):  0.0 197.88857\n"
     ]
    },
    {
     "name": "stderr",
     "output_type": "stream",
     "text": [
      "\r",
      " 52%|█████▏    | 24/46 [03:11<02:57,  8.06s/it]"
     ]
    },
    {
     "name": "stdout",
     "output_type": "stream",
     "text": [
      "Couldn't find a metadata file... for\n",
      " Metadata object at vizdata/h206_jet_proj_maps_024.hdf5\n",
      "projecting 99982 particles\n",
      "------------------------------------------\n",
      "------------------------------------------\n",
      "minmax(weightMap) 0.0 9.427027e-14\n",
      "Fraction deposited: 0.9999999\n",
      "minmax(weightWeightedQuantityMap) 0.0 0.0\n",
      "-done\n",
      "inner_weight_along_los(GasStudio instance, None, 'Masses', None, 'logT'){} 5.55 s elapsed\n",
      "min_logT =  3\n",
      "max_logT =  8\n",
      "Image range (logT):  2.882201 7.321139\n",
      "Image range (8bit):  0.0 220.37808\n"
     ]
    },
    {
     "name": "stderr",
     "output_type": "stream",
     "text": [
      "\r",
      " 54%|█████▍    | 25/46 [03:19<02:50,  8.10s/it]"
     ]
    },
    {
     "name": "stdout",
     "output_type": "stream",
     "text": [
      "Couldn't find a metadata file... for\n",
      " Metadata object at vizdata/h206_jet_proj_maps_025.hdf5\n",
      "projecting 79340 particles\n",
      "------------------------------------------\n",
      "------------------------------------------\n",
      "minmax(weightMap) 0.0 9.9842315e-15\n",
      "Fraction deposited: 1.0\n",
      "minmax(weightWeightedQuantityMap) 0.0 0.0\n",
      "-done\n",
      "inner_weight_along_los(GasStudio instance, None, 'Masses', None, 'logT'){} 5.06 s elapsed\n",
      "min_logT =  3\n",
      "max_logT =  8\n",
      "Image range (logT):  3.7592125 7.2767878\n",
      "Image range (8bit):  38.719837 218.11617\n"
     ]
    },
    {
     "name": "stderr",
     "output_type": "stream",
     "text": [
      "\r",
      " 57%|█████▋    | 26/46 [03:27<02:39,  7.99s/it]"
     ]
    },
    {
     "name": "stdout",
     "output_type": "stream",
     "text": [
      "Couldn't find a metadata file... for\n",
      " Metadata object at vizdata/h206_jet_proj_maps_026.hdf5\n",
      "projecting 62590 particles\n",
      "------------------------------------------\n",
      "------------------------------------------\n",
      "minmax(weightMap) 0.0 6.7721063e-14\n",
      "Fraction deposited: 1.0000001\n",
      "minmax(weightWeightedQuantityMap) 0.0 0.0\n",
      "-done\n",
      "inner_weight_along_los(GasStudio instance, None, 'Masses', None, 'logT'){} 4.74 s elapsed\n",
      "min_logT =  3\n",
      "max_logT =  8\n",
      "Image range (logT):  2.5857632 7.1836896\n",
      "Image range (8bit):  0.0 213.36818\n"
     ]
    },
    {
     "name": "stderr",
     "output_type": "stream",
     "text": [
      "\r",
      " 59%|█████▊    | 27/46 [03:34<02:27,  7.77s/it]"
     ]
    },
    {
     "name": "stdout",
     "output_type": "stream",
     "text": [
      "Couldn't find a metadata file... for\n",
      " Metadata object at vizdata/h206_jet_proj_maps_027.hdf5\n",
      "projecting 62746 particles\n",
      "------------------------------------------\n",
      "------------------------------------------\n",
      "minmax(weightMap) 0.0 3.0767154e-14\n",
      "Fraction deposited: 0.9999997\n",
      "minmax(weightWeightedQuantityMap) 0.0 0.0\n",
      "-done\n",
      "inner_weight_along_los(GasStudio instance, None, 'Masses', None, 'logT'){} 4.55 s elapsed\n",
      "min_logT =  3\n",
      "max_logT =  8\n",
      "Image range (logT):  2.774162 7.017208\n",
      "Image range (8bit):  0.0 204.87762\n"
     ]
    },
    {
     "name": "stderr",
     "output_type": "stream",
     "text": [
      "\r",
      " 61%|██████    | 28/46 [03:41<02:16,  7.56s/it]"
     ]
    },
    {
     "name": "stdout",
     "output_type": "stream",
     "text": [
      "Couldn't find a metadata file... for\n",
      " Metadata object at vizdata/h206_jet_proj_maps_028.hdf5\n",
      "projecting 55469 particles\n",
      "------------------------------------------\n",
      "------------------------------------------\n",
      "minmax(weightMap) 0.0 5.4328676e-15\n",
      "Fraction deposited: 1.0000002\n",
      "minmax(weightWeightedQuantityMap) 0.0 0.0\n",
      "-done\n",
      "inner_weight_along_los(GasStudio instance, None, 'Masses', None, 'logT'){} 4.68 s elapsed\n",
      "min_logT =  3\n",
      "max_logT =  8\n",
      "Image range (logT):  3.8693154 7.2272487\n",
      "Image range (8bit):  44.335087 215.58969\n"
     ]
    },
    {
     "name": "stderr",
     "output_type": "stream",
     "text": [
      "\r",
      " 63%|██████▎   | 29/46 [03:48<02:06,  7.46s/it]"
     ]
    },
    {
     "name": "stdout",
     "output_type": "stream",
     "text": [
      "Couldn't find a metadata file... for\n",
      " Metadata object at vizdata/h206_jet_proj_maps_029.hdf5\n",
      "projecting 46312 particles\n",
      "------------------------------------------\n",
      "------------------------------------------\n",
      "minmax(weightMap) 0.0 2.839907e-15\n",
      "Fraction deposited: 0.99999976\n",
      "minmax(weightWeightedQuantityMap) 0.0 0.0\n",
      "-done\n",
      "inner_weight_along_los(GasStudio instance, None, 'Masses', None, 'logT'){} 4.52 s elapsed\n",
      "min_logT =  3\n",
      "max_logT =  8\n",
      "Image range (logT):  3.9916818 7.328875\n",
      "Image range (8bit):  50.57577 220.77263\n"
     ]
    },
    {
     "name": "stderr",
     "output_type": "stream",
     "text": [
      "\r",
      " 65%|██████▌   | 30/46 [03:55<01:57,  7.33s/it]"
     ]
    },
    {
     "name": "stdout",
     "output_type": "stream",
     "text": [
      "Couldn't find a metadata file... for\n",
      " Metadata object at vizdata/h206_jet_proj_maps_030.hdf5\n",
      "projecting 46081 particles\n",
      "------------------------------------------\n",
      "------------------------------------------\n",
      "minmax(weightMap) 0.0 5.6970725e-15\n",
      "Fraction deposited: 1.0000001\n",
      "minmax(weightWeightedQuantityMap) 0.0 0.0\n",
      "-done\n",
      "inner_weight_along_los(GasStudio instance, None, 'Masses', None, 'logT'){} 4.49 s elapsed\n",
      "min_logT =  3\n",
      "max_logT =  8\n",
      "Image range (logT):  3.432252 7.18942\n",
      "Image range (8bit):  22.044847 213.66043\n"
     ]
    },
    {
     "name": "stderr",
     "output_type": "stream",
     "text": [
      "\r",
      " 67%|██████▋   | 31/46 [04:02<01:48,  7.24s/it]"
     ]
    },
    {
     "name": "stdout",
     "output_type": "stream",
     "text": [
      "Couldn't find a metadata file... for\n",
      " Metadata object at vizdata/h206_jet_proj_maps_031.hdf5\n",
      "projecting 56932 particles\n",
      "------------------------------------------\n",
      "------------------------------------------\n",
      "minmax(weightMap) 0.0 3.8134605e-15\n",
      "Fraction deposited: 1.0000001\n",
      "minmax(weightWeightedQuantityMap) 0.0 0.0\n",
      "-done\n",
      "inner_weight_along_los(GasStudio instance, None, 'Masses', None, 'logT'){} 4.77 s elapsed\n",
      "min_logT =  3\n",
      "max_logT =  8\n",
      "Image range (logT):  3.7243633 7.0637045\n",
      "Image range (8bit):  36.942528 207.24893\n"
     ]
    },
    {
     "name": "stderr",
     "output_type": "stream",
     "text": [
      "\r",
      " 70%|██████▉   | 32/46 [04:10<01:41,  7.28s/it]"
     ]
    },
    {
     "name": "stdout",
     "output_type": "stream",
     "text": [
      "Couldn't find a metadata file... for\n",
      " Metadata object at vizdata/h206_jet_proj_maps_032.hdf5\n",
      "projecting 56625 particles\n",
      "------------------------------------------\n",
      "------------------------------------------\n",
      "minmax(weightMap) 0.0 6.75872e-15\n",
      "Fraction deposited: 1.0\n",
      "minmax(weightWeightedQuantityMap) 0.0 0.0\n",
      "-done\n",
      "inner_weight_along_los(GasStudio instance, None, 'Masses', None, 'logT'){} 5.16 s elapsed\n",
      "min_logT =  3\n",
      "max_logT =  8\n",
      "Image range (logT):  2.8925378 7.2159915\n",
      "Image range (8bit):  0.0 215.01556\n"
     ]
    },
    {
     "name": "stderr",
     "output_type": "stream",
     "text": [
      "\r",
      " 72%|███████▏  | 33/46 [04:17<01:36,  7.40s/it]"
     ]
    },
    {
     "name": "stdout",
     "output_type": "stream",
     "text": [
      "Couldn't find a metadata file... for\n",
      " Metadata object at vizdata/h206_jet_proj_maps_033.hdf5\n",
      "projecting 55464 particles\n",
      "------------------------------------------\n",
      "------------------------------------------\n",
      "minmax(weightMap) 0.0 1.2549154e-14\n",
      "Fraction deposited: 0.9999997\n",
      "minmax(weightWeightedQuantityMap) 0.0 0.0\n",
      "-done\n",
      "inner_weight_along_los(GasStudio instance, None, 'Masses', None, 'logT'){} 5.36 s elapsed\n",
      "min_logT =  3\n",
      "max_logT =  8\n",
      "Image range (logT):  2.950757 6.786993\n",
      "Image range (8bit):  0.0 193.13664\n"
     ]
    },
    {
     "name": "stderr",
     "output_type": "stream",
     "text": [
      "\r",
      " 74%|███████▍  | 34/46 [04:25<01:30,  7.57s/it]"
     ]
    },
    {
     "name": "stdout",
     "output_type": "stream",
     "text": [
      "Couldn't find a metadata file... for\n",
      " Metadata object at vizdata/h206_jet_proj_maps_034.hdf5\n",
      "projecting 56903 particles\n",
      "------------------------------------------\n",
      "------------------------------------------\n",
      "minmax(weightMap) 0.0 6.4768967e-15\n",
      "Fraction deposited: 0.9999999\n",
      "minmax(weightWeightedQuantityMap) 0.0 0.0\n",
      "-done\n",
      "inner_weight_along_los(GasStudio instance, None, 'Masses', None, 'logT'){} 5.29 s elapsed\n",
      "min_logT =  3\n",
      "max_logT =  8\n",
      "Image range (logT):  3.1327097 6.8510447\n",
      "Image range (8bit):  6.768197 196.40329\n"
     ]
    },
    {
     "name": "stderr",
     "output_type": "stream",
     "text": [
      "\r",
      " 76%|███████▌  | 35/46 [04:33<01:24,  7.65s/it]"
     ]
    },
    {
     "name": "stdout",
     "output_type": "stream",
     "text": [
      "Couldn't find a metadata file... for\n",
      " Metadata object at vizdata/h206_jet_proj_maps_035.hdf5\n",
      "projecting 51802 particles\n",
      "------------------------------------------\n",
      "------------------------------------------\n",
      "minmax(weightMap) 0.0 2.634719e-15\n",
      "Fraction deposited: 1.0000004\n",
      "minmax(weightWeightedQuantityMap) 0.0 0.0\n",
      "-done\n",
      "inner_weight_along_los(GasStudio instance, None, 'Masses', None, 'logT'){} 5.33 s elapsed\n",
      "min_logT =  3\n",
      "max_logT =  8\n",
      "Image range (logT):  3.6090243 6.754634\n",
      "Image range (8bit):  31.060238 191.48633\n"
     ]
    },
    {
     "name": "stderr",
     "output_type": "stream",
     "text": [
      "\r",
      " 78%|███████▊  | 36/46 [04:41<01:17,  7.74s/it]"
     ]
    },
    {
     "name": "stdout",
     "output_type": "stream",
     "text": [
      "Couldn't find a metadata file... for\n",
      " Metadata object at vizdata/h206_jet_proj_maps_036.hdf5\n",
      "projecting 52163 particles\n",
      "------------------------------------------\n",
      "------------------------------------------\n",
      "minmax(weightMap) 0.0 1.0420233e-14\n",
      "Fraction deposited: 0.9999999\n",
      "minmax(weightWeightedQuantityMap) 0.0 0.0\n",
      "-done\n",
      "inner_weight_along_los(GasStudio instance, None, 'Masses', None, 'logT'){} 5.25 s elapsed\n",
      "min_logT =  3\n",
      "max_logT =  8\n",
      "Image range (logT):  3.686355 6.9164324\n",
      "Image range (8bit):  35.00411 199.73805\n"
     ]
    },
    {
     "name": "stderr",
     "output_type": "stream",
     "text": [
      "\r",
      " 80%|████████  | 37/46 [04:49<01:09,  7.77s/it]"
     ]
    },
    {
     "name": "stdout",
     "output_type": "stream",
     "text": [
      "Couldn't find a metadata file... for\n",
      " Metadata object at vizdata/h206_jet_proj_maps_037.hdf5\n",
      "projecting 36532 particles\n",
      "------------------------------------------\n",
      "------------------------------------------\n",
      "minmax(weightMap) 0.0 1.24515e-14\n",
      "Fraction deposited: 0.99999964\n",
      "minmax(weightWeightedQuantityMap) 0.0 0.0\n",
      "-done\n",
      "inner_weight_along_los(GasStudio instance, None, 'Masses', None, 'logT'){} 4.71 s elapsed\n",
      "min_logT =  3\n",
      "max_logT =  8\n",
      "Image range (logT):  3.34168 6.9138613\n",
      "Image range (8bit):  17.425682 199.60692\n"
     ]
    },
    {
     "name": "stderr",
     "output_type": "stream",
     "text": [
      "\r",
      " 83%|████████▎ | 38/46 [04:56<01:00,  7.60s/it]"
     ]
    },
    {
     "name": "stdout",
     "output_type": "stream",
     "text": [
      "Couldn't find a metadata file... for\n",
      " Metadata object at vizdata/h206_jet_proj_maps_038.hdf5\n",
      "projecting 33237 particles\n",
      "------------------------------------------\n",
      "------------------------------------------\n",
      "minmax(weightMap) 0.0 1.0087535e-14\n",
      "Fraction deposited: 1.0000001\n",
      "minmax(weightWeightedQuantityMap) 0.0 0.0\n",
      "-done\n",
      "inner_weight_along_los(GasStudio instance, None, 'Masses', None, 'logT'){} 4.80 s elapsed\n",
      "min_logT =  3\n",
      "max_logT =  8\n",
      "Image range (logT):  2.0943444 7.653531\n",
      "Image range (8bit):  0.0 237.33008\n"
     ]
    },
    {
     "name": "stderr",
     "output_type": "stream",
     "text": [
      "\r",
      " 85%|████████▍ | 39/46 [05:03<00:52,  7.51s/it]"
     ]
    },
    {
     "name": "stdout",
     "output_type": "stream",
     "text": [
      "Couldn't find a metadata file... for\n",
      " Metadata object at vizdata/h206_jet_proj_maps_039.hdf5\n",
      "projecting 32026 particles\n",
      "------------------------------------------\n",
      "------------------------------------------\n",
      "minmax(weightMap) 0.0 6.7998656e-16\n",
      "Fraction deposited: 1.0000004\n",
      "minmax(weightWeightedQuantityMap) 0.0 0.0\n",
      "-done\n",
      "inner_weight_along_los(GasStudio instance, None, 'Masses', None, 'logT'){} 4.63 s elapsed\n",
      "min_logT =  3\n",
      "max_logT =  8\n",
      "Image range (logT):  4.406355 7.0985327\n",
      "Image range (8bit):  71.7241 209.02518\n"
     ]
    },
    {
     "name": "stderr",
     "output_type": "stream",
     "text": [
      "\r",
      " 87%|████████▋ | 40/46 [05:11<00:44,  7.41s/it]"
     ]
    },
    {
     "name": "stdout",
     "output_type": "stream",
     "text": [
      "Couldn't find a metadata file... for\n",
      " Metadata object at vizdata/h206_jet_proj_maps_040.hdf5\n",
      "projecting 29418 particles\n",
      "------------------------------------------\n",
      "------------------------------------------\n",
      "minmax(weightMap) 0.0 4.2449975e-16\n",
      "Fraction deposited: 1.0\n",
      "minmax(weightWeightedQuantityMap) 0.0 0.0\n",
      "-done\n",
      "inner_weight_along_los(GasStudio instance, None, 'Masses', None, 'logT'){} 4.74 s elapsed\n",
      "min_logT =  3\n",
      "max_logT =  8\n",
      "Image range (logT):  4.519791 7.283866\n",
      "Image range (8bit):  77.50935 218.47717\n"
     ]
    },
    {
     "name": "stderr",
     "output_type": "stream",
     "text": [
      "\r",
      " 89%|████████▉ | 41/46 [05:18<00:36,  7.36s/it]"
     ]
    },
    {
     "name": "stdout",
     "output_type": "stream",
     "text": [
      "Couldn't find a metadata file... for\n",
      " Metadata object at vizdata/h206_jet_proj_maps_041.hdf5\n",
      "projecting 29173 particles\n",
      "------------------------------------------\n",
      "------------------------------------------\n",
      "minmax(weightMap) 0.0 2.758336e-16\n",
      "Fraction deposited: 1.0000005\n",
      "minmax(weightWeightedQuantityMap) 0.0 0.0\n",
      "-done\n",
      "inner_weight_along_los(GasStudio instance, None, 'Masses', None, 'logT'){} 4.65 s elapsed\n",
      "min_logT =  3\n",
      "max_logT =  8\n",
      "Image range (logT):  4.491862 7.162347\n",
      "Image range (8bit):  76.08495 212.27968\n"
     ]
    },
    {
     "name": "stderr",
     "output_type": "stream",
     "text": [
      "\r",
      " 91%|█████████▏| 42/46 [05:25<00:29,  7.33s/it]"
     ]
    },
    {
     "name": "stdout",
     "output_type": "stream",
     "text": [
      "Couldn't find a metadata file... for\n",
      " Metadata object at vizdata/h206_jet_proj_maps_042.hdf5\n",
      "projecting 33477 particles\n",
      "------------------------------------------\n",
      "------------------------------------------\n",
      "minmax(weightMap) 0.0 1.1198574e-15\n",
      "Fraction deposited: 0.99999994\n",
      "minmax(weightWeightedQuantityMap) 0.0 0.0\n",
      "-done\n",
      "inner_weight_along_los(GasStudio instance, None, 'Masses', None, 'logT'){} 4.87 s elapsed\n",
      "min_logT =  3\n",
      "max_logT =  8\n",
      "Image range (logT):  4.2663336 6.834631\n",
      "Image range (8bit):  64.583015 195.56618\n"
     ]
    },
    {
     "name": "stderr",
     "output_type": "stream",
     "text": [
      "\r",
      " 93%|█████████▎| 43/46 [05:32<00:22,  7.35s/it]"
     ]
    },
    {
     "name": "stdout",
     "output_type": "stream",
     "text": [
      "Couldn't find a metadata file... for\n",
      " Metadata object at vizdata/h206_jet_proj_maps_043.hdf5\n",
      "projecting 25432 particles\n",
      "------------------------------------------\n",
      "------------------------------------------\n",
      "minmax(weightMap) 0.0 5.4840635e-16\n",
      "Fraction deposited: 0.9999998\n",
      "minmax(weightWeightedQuantityMap) 0.0 0.0\n",
      "-done\n",
      "inner_weight_along_los(GasStudio instance, None, 'Masses', None, 'logT'){} 4.43 s elapsed\n",
      "min_logT =  3\n",
      "max_logT =  8\n",
      "Image range (logT):  4.2581215 7.0301795\n",
      "Image range (8bit):  64.16419 205.53915\n"
     ]
    },
    {
     "name": "stderr",
     "output_type": "stream",
     "text": [
      "\r",
      " 96%|█████████▌| 44/46 [05:39<00:14,  7.24s/it]"
     ]
    },
    {
     "name": "stdout",
     "output_type": "stream",
     "text": [
      "Couldn't find a metadata file... for\n",
      " Metadata object at vizdata/h206_jet_proj_maps_044.hdf5\n",
      "projecting 23480 particles\n",
      "------------------------------------------\n",
      "------------------------------------------\n",
      "minmax(weightMap) 0.0 4.0726871e-16\n",
      "Fraction deposited: 1.0000005\n",
      "minmax(weightWeightedQuantityMap) 0.0 0.0\n",
      "-done\n",
      "inner_weight_along_los(GasStudio instance, None, 'Masses', None, 'logT'){} 4.44 s elapsed\n",
      "min_logT =  3\n",
      "max_logT =  8\n",
      "Image range (logT):  4.6782355 6.946839\n",
      "Image range (8bit):  85.59001 201.28879\n"
     ]
    },
    {
     "name": "stderr",
     "output_type": "stream",
     "text": [
      "\r",
      " 98%|█████████▊| 45/46 [05:46<00:07,  7.17s/it]"
     ]
    },
    {
     "name": "stdout",
     "output_type": "stream",
     "text": [
      "Couldn't find a metadata file... for\n",
      " Metadata object at vizdata/h206_jet_proj_maps_045.hdf5\n",
      "projecting 27521 particles\n",
      "------------------------------------------\n",
      "------------------------------------------\n",
      "minmax(weightMap) 0.0 2.1675905e-16\n",
      "Fraction deposited: 0.9999998\n",
      "minmax(weightWeightedQuantityMap) 0.0 0.0\n",
      "-done\n",
      "inner_weight_along_los(GasStudio instance, None, 'Masses', None, 'logT'){} 4.67 s elapsed\n",
      "min_logT =  3\n",
      "max_logT =  8\n",
      "Image range (logT):  4.7456703 6.9989862\n",
      "Image range (8bit):  89.02918 203.94829\n"
     ]
    },
    {
     "name": "stderr",
     "output_type": "stream",
     "text": [
      "100%|██████████| 46/46 [05:54<00:00,  7.70s/it]\n",
      "  0%|          | 0/46 [00:00<?, ?it/s]"
     ]
    },
    {
     "name": "stdout",
     "output_type": "stream",
     "text": [
      "Couldn't find a metadata file... for\n",
      " Metadata object at vizdata/h206_spawn_proj_maps_000.hdf5\n",
      "projecting 3005178 particles\n",
      "------------------------------------------\n",
      "------------------------------------------\n",
      "minmax(weightMap) 0.0 2.1037695e-14\n",
      "Fraction deposited: 1.0000025\n",
      "minmax(weightWeightedQuantityMap) 0.0 0.0\n",
      "-done\n",
      "inner_weight_along_los(GasStudio instance, None, 'Masses', None, 'logT'){} 12.07 s elapsed\n",
      "min_logT =  3\n",
      "max_logT =  8\n",
      "Image range (logT):  2.2113454 2.2401025\n",
      "Image range (8bit):  0.0 0.0\n"
     ]
    },
    {
     "name": "stderr",
     "output_type": "stream",
     "text": [
      "\r",
      "  2%|▏         | 1/46 [00:14<10:51, 14.47s/it]"
     ]
    },
    {
     "name": "stdout",
     "output_type": "stream",
     "text": [
      "Couldn't find a metadata file... for\n",
      " Metadata object at vizdata/h206_spawn_proj_maps_001.hdf5\n",
      "projecting 70856 particles\n",
      "------------------------------------------\n",
      "------------------------------------------\n",
      "minmax(weightMap) 0.0 3.978941e-14\n",
      "Fraction deposited: 0.99999994\n",
      "minmax(weightWeightedQuantityMap) 0.0 0.0\n",
      "-done\n",
      "inner_weight_along_los(GasStudio instance, None, 'Masses', None, 'logT'){} 4.50 s elapsed\n",
      "min_logT =  3\n",
      "max_logT =  8\n",
      "Image range (logT):  1.9738919 5.4895864\n",
      "Image range (8bit):  0.0 126.9689\n"
     ]
    },
    {
     "name": "stderr",
     "output_type": "stream",
     "text": [
      "\r",
      "  4%|▍         | 2/46 [00:21<07:26, 10.14s/it]"
     ]
    },
    {
     "name": "stdout",
     "output_type": "stream",
     "text": [
      "Couldn't find a metadata file... for\n",
      " Metadata object at vizdata/h206_spawn_proj_maps_002.hdf5\n",
      "projecting 74502 particles\n",
      "------------------------------------------\n",
      "------------------------------------------\n",
      "minmax(weightMap) 0.0 3.2380884e-14\n",
      "Fraction deposited: 1.0000002\n",
      "minmax(weightWeightedQuantityMap) 0.0 0.0\n",
      "-done\n",
      "inner_weight_along_los(GasStudio instance, None, 'Masses', None, 'logT'){} 4.50 s elapsed\n",
      "min_logT =  3\n",
      "max_logT =  8\n",
      "Image range (logT):  1.7517163 5.5576906\n",
      "Image range (8bit):  0.0 130.44223\n"
     ]
    },
    {
     "name": "stderr",
     "output_type": "stream",
     "text": [
      "\r",
      "  7%|▋         | 3/46 [00:28<06:15,  8.74s/it]"
     ]
    },
    {
     "name": "stdout",
     "output_type": "stream",
     "text": [
      "Couldn't find a metadata file... for\n",
      " Metadata object at vizdata/h206_spawn_proj_maps_003.hdf5\n",
      "projecting 85012 particles\n",
      "------------------------------------------\n",
      "------------------------------------------\n",
      "minmax(weightMap) 0.0 1.03922716e-13\n",
      "Fraction deposited: 1.0000001\n",
      "minmax(weightWeightedQuantityMap) 0.0 0.0\n",
      "-done\n",
      "inner_weight_along_los(GasStudio instance, None, 'Masses', None, 'logT'){} 4.64 s elapsed\n",
      "min_logT =  3\n",
      "max_logT =  8\n",
      "Image range (logT):  1.5053432 5.8221188\n",
      "Image range (8bit):  0.0 143.92805\n"
     ]
    },
    {
     "name": "stderr",
     "output_type": "stream",
     "text": [
      "\r",
      "  9%|▊         | 4/46 [00:35<05:41,  8.12s/it]"
     ]
    },
    {
     "name": "stdout",
     "output_type": "stream",
     "text": [
      "Couldn't find a metadata file... for\n",
      " Metadata object at vizdata/h206_spawn_proj_maps_004.hdf5\n",
      "projecting 92868 particles\n",
      "------------------------------------------\n",
      "------------------------------------------\n",
      "minmax(weightMap) 0.0 1.3082215e-13\n",
      "Fraction deposited: 1.0000005\n",
      "minmax(weightWeightedQuantityMap) 0.0 0.0\n",
      "-done\n",
      "inner_weight_along_los(GasStudio instance, None, 'Masses', None, 'logT'){} 4.40 s elapsed\n",
      "min_logT =  3\n",
      "max_logT =  8\n",
      "Image range (logT):  1.6784564 5.658108\n",
      "Image range (8bit):  0.0 135.56352\n"
     ]
    },
    {
     "name": "stderr",
     "output_type": "stream",
     "text": [
      "\r",
      " 11%|█         | 5/46 [00:43<05:20,  7.81s/it]"
     ]
    },
    {
     "name": "stdout",
     "output_type": "stream",
     "text": [
      "Couldn't find a metadata file... for\n",
      " Metadata object at vizdata/h206_spawn_proj_maps_005.hdf5\n",
      "projecting 96831 particles\n",
      "------------------------------------------\n",
      "------------------------------------------\n",
      "minmax(weightMap) 0.0 1.306813e-13\n",
      "Fraction deposited: 0.99999976\n",
      "minmax(weightWeightedQuantityMap) 0.0 0.0\n",
      "-done\n",
      "inner_weight_along_los(GasStudio instance, None, 'Masses', None, 'logT'){} 4.67 s elapsed\n",
      "min_logT =  3\n",
      "max_logT =  8\n",
      "Image range (logT):  1.6690818 5.868458\n",
      "Image range (8bit):  0.0 146.29135\n"
     ]
    },
    {
     "name": "stderr",
     "output_type": "stream",
     "text": [
      "\r",
      " 13%|█▎        | 6/46 [00:50<05:05,  7.65s/it]"
     ]
    },
    {
     "name": "stdout",
     "output_type": "stream",
     "text": [
      "Couldn't find a metadata file... for\n",
      " Metadata object at vizdata/h206_spawn_proj_maps_006.hdf5\n",
      "projecting 100413 particles\n",
      "------------------------------------------\n",
      "------------------------------------------\n",
      "minmax(weightMap) 0.0 2.6686485e-13\n",
      "Fraction deposited: 0.9999999\n",
      "minmax(weightWeightedQuantityMap) 0.0 0.0\n",
      "-done\n",
      "inner_weight_along_los(GasStudio instance, None, 'Masses', None, 'logT'){} 4.66 s elapsed\n",
      "min_logT =  3\n",
      "max_logT =  8\n",
      "Image range (logT):  1.8031619 6.321788\n",
      "Image range (8bit):  0.0 169.41118\n"
     ]
    },
    {
     "name": "stderr",
     "output_type": "stream",
     "text": [
      "\r",
      " 15%|█▌        | 7/46 [00:57<04:53,  7.51s/it]"
     ]
    },
    {
     "name": "stdout",
     "output_type": "stream",
     "text": [
      "Couldn't find a metadata file... for\n",
      " Metadata object at vizdata/h206_spawn_proj_maps_007.hdf5\n",
      "projecting 104928 particles\n",
      "------------------------------------------\n",
      "------------------------------------------\n",
      "minmax(weightMap) 0.0 1.3607323e-13\n",
      "Fraction deposited: 0.9999999\n",
      "minmax(weightWeightedQuantityMap) 0.0 0.0\n",
      "-done\n",
      "inner_weight_along_los(GasStudio instance, None, 'Masses', None, 'logT'){} 4.66 s elapsed\n",
      "min_logT =  3\n",
      "max_logT =  8\n",
      "Image range (logT):  1.9534664 6.46592\n",
      "Image range (8bit):  0.0 176.76192\n"
     ]
    },
    {
     "name": "stderr",
     "output_type": "stream",
     "text": [
      "\r",
      " 17%|█▋        | 8/46 [01:04<04:42,  7.44s/it]"
     ]
    },
    {
     "name": "stdout",
     "output_type": "stream",
     "text": [
      "Couldn't find a metadata file... for\n",
      " Metadata object at vizdata/h206_spawn_proj_maps_008.hdf5\n",
      "projecting 105368 particles\n",
      "------------------------------------------\n",
      "------------------------------------------\n",
      "minmax(weightMap) 0.0 9.429505e-14\n",
      "Fraction deposited: 1.0000002\n",
      "minmax(weightWeightedQuantityMap) 0.0 0.0\n",
      "-done\n",
      "inner_weight_along_los(GasStudio instance, None, 'Masses', None, 'logT'){} 4.61 s elapsed\n",
      "min_logT =  3\n",
      "max_logT =  8\n",
      "Image range (logT):  1.9676212 6.767993\n",
      "Image range (8bit):  0.0 192.16763\n"
     ]
    },
    {
     "name": "stderr",
     "output_type": "stream",
     "text": [
      "\r",
      " 20%|█▉        | 9/46 [01:12<04:34,  7.41s/it]"
     ]
    },
    {
     "name": "stdout",
     "output_type": "stream",
     "text": [
      "Couldn't find a metadata file... for\n",
      " Metadata object at vizdata/h206_spawn_proj_maps_009.hdf5\n",
      "projecting 115408 particles\n",
      "------------------------------------------\n",
      "------------------------------------------\n",
      "minmax(weightMap) 0.0 1.2881338e-13\n",
      "Fraction deposited: 0.9999998\n",
      "minmax(weightWeightedQuantityMap) 0.0 0.0\n",
      "-done\n",
      "inner_weight_along_los(GasStudio instance, None, 'Masses', None, 'logT'){} 4.74 s elapsed\n",
      "min_logT =  3\n",
      "max_logT =  8\n",
      "Image range (logT):  2.206615 6.7636385\n",
      "Image range (8bit):  0.0 191.94556\n"
     ]
    },
    {
     "name": "stderr",
     "output_type": "stream",
     "text": [
      "\r",
      " 22%|██▏       | 10/46 [01:19<04:26,  7.41s/it]"
     ]
    },
    {
     "name": "stdout",
     "output_type": "stream",
     "text": [
      "Couldn't find a metadata file... for\n",
      " Metadata object at vizdata/h206_spawn_proj_maps_010.hdf5\n",
      "projecting 117537 particles\n",
      "------------------------------------------\n",
      "------------------------------------------\n",
      "minmax(weightMap) 0.0 1.0941153e-13\n",
      "Fraction deposited: 1.0\n",
      "minmax(weightWeightedQuantityMap) 0.0 0.0\n",
      "-done\n",
      "inner_weight_along_los(GasStudio instance, None, 'Masses', None, 'logT'){} 5.11 s elapsed\n",
      "min_logT =  3\n",
      "max_logT =  8\n",
      "Image range (logT):  1.9492308 7.1098824\n",
      "Image range (8bit):  0.0 209.604\n"
     ]
    },
    {
     "name": "stderr",
     "output_type": "stream",
     "text": [
      "\r",
      " 24%|██▍       | 11/46 [01:27<04:22,  7.51s/it]"
     ]
    },
    {
     "name": "stdout",
     "output_type": "stream",
     "text": [
      "Couldn't find a metadata file... for\n",
      " Metadata object at vizdata/h206_spawn_proj_maps_011.hdf5\n",
      "projecting 114370 particles\n",
      "------------------------------------------\n",
      "------------------------------------------\n",
      "minmax(weightMap) 0.0 1.673226e-14\n",
      "Fraction deposited: 0.9999996\n",
      "minmax(weightWeightedQuantityMap) 0.0 0.0\n",
      "-done\n",
      "inner_weight_along_los(GasStudio instance, None, 'Masses', None, 'logT'){} 5.55 s elapsed\n",
      "min_logT =  3\n",
      "max_logT =  8\n",
      "Image range (logT):  3.72612 6.9803977\n",
      "Image range (8bit):  37.03212 203.00027\n"
     ]
    },
    {
     "name": "stderr",
     "output_type": "stream",
     "text": [
      "\r",
      " 26%|██▌       | 12/46 [01:35<04:22,  7.73s/it]"
     ]
    },
    {
     "name": "stdout",
     "output_type": "stream",
     "text": [
      "Couldn't find a metadata file... for\n",
      " Metadata object at vizdata/h206_spawn_proj_maps_012.hdf5\n",
      "projecting 141923 particles\n",
      "------------------------------------------\n",
      "------------------------------------------\n",
      "minmax(weightMap) 0.0 1.09809405e-13\n",
      "Fraction deposited: 1.0000001\n",
      "minmax(weightWeightedQuantityMap) 0.0 0.0\n",
      "-done\n",
      "inner_weight_along_los(GasStudio instance, None, 'Masses', None, 'logT'){} 5.54 s elapsed\n",
      "min_logT =  3\n",
      "max_logT =  8\n",
      "Image range (logT):  2.4566295 6.944194\n",
      "Image range (8bit):  0.0 201.15388\n"
     ]
    },
    {
     "name": "stderr",
     "output_type": "stream",
     "text": [
      "\r",
      " 28%|██▊       | 13/46 [01:43<04:20,  7.88s/it]"
     ]
    },
    {
     "name": "stdout",
     "output_type": "stream",
     "text": [
      "Couldn't find a metadata file... for\n",
      " Metadata object at vizdata/h206_spawn_proj_maps_013.hdf5\n",
      "projecting 205470 particles\n",
      "------------------------------------------\n",
      "------------------------------------------\n",
      "minmax(weightMap) 0.0 5.3511964e-13\n",
      "Fraction deposited: 0.9999997\n",
      "minmax(weightWeightedQuantityMap) 0.0 0.0\n",
      "-done\n",
      "inner_weight_along_los(GasStudio instance, None, 'Masses', None, 'logT'){} 5.46 s elapsed\n",
      "min_logT =  3\n",
      "max_logT =  8\n",
      "Image range (logT):  1.693078 6.766141\n",
      "Image range (8bit):  0.0 192.07318\n"
     ]
    },
    {
     "name": "stderr",
     "output_type": "stream",
     "text": [
      "\r",
      " 30%|███       | 14/46 [01:52<04:14,  7.96s/it]"
     ]
    },
    {
     "name": "stdout",
     "output_type": "stream",
     "text": [
      "Couldn't find a metadata file... for\n",
      " Metadata object at vizdata/h206_spawn_proj_maps_014.hdf5\n",
      "projecting 167120 particles\n",
      "------------------------------------------\n",
      "------------------------------------------\n",
      "minmax(weightMap) 0.0 2.7916582e-13\n",
      "Fraction deposited: 1.0000006\n",
      "minmax(weightWeightedQuantityMap) 0.0 0.0\n",
      "-done\n",
      "inner_weight_along_los(GasStudio instance, None, 'Masses', None, 'logT'){} 6.15 s elapsed\n",
      "min_logT =  3\n",
      "max_logT =  8\n",
      "Image range (logT):  2.8481245 7.0513406\n",
      "Image range (8bit):  0.0 206.61836\n"
     ]
    },
    {
     "name": "stderr",
     "output_type": "stream",
     "text": [
      "\r",
      " 33%|███▎      | 15/46 [02:00<04:14,  8.22s/it]"
     ]
    },
    {
     "name": "stdout",
     "output_type": "stream",
     "text": [
      "Couldn't find a metadata file... for\n",
      " Metadata object at vizdata/h206_spawn_proj_maps_015.hdf5\n",
      "projecting 100641 particles\n",
      "------------------------------------------\n",
      "------------------------------------------\n",
      "minmax(weightMap) 0.0 6.655086e-14\n",
      "Fraction deposited: 1.0\n",
      "minmax(weightWeightedQuantityMap) 0.0 0.0\n",
      "-done\n",
      "inner_weight_along_los(GasStudio instance, None, 'Masses', None, 'logT'){} 5.59 s elapsed\n",
      "min_logT =  3\n",
      "max_logT =  8\n",
      "Image range (logT):  3.3880742 6.8265214\n",
      "Image range (8bit):  19.79178 195.15259\n"
     ]
    },
    {
     "name": "stderr",
     "output_type": "stream",
     "text": [
      "\r",
      " 35%|███▍      | 16/46 [02:09<04:06,  8.23s/it]"
     ]
    },
    {
     "name": "stdout",
     "output_type": "stream",
     "text": [
      "Couldn't find a metadata file... for\n",
      " Metadata object at vizdata/h206_spawn_proj_maps_016.hdf5\n",
      "projecting 91627 particles\n",
      "------------------------------------------\n",
      "------------------------------------------\n",
      "minmax(weightMap) 0.0 2.1086807e-14\n",
      "Fraction deposited: 1.0000002\n",
      "minmax(weightWeightedQuantityMap) 0.0 0.0\n",
      "-done\n",
      "inner_weight_along_los(GasStudio instance, None, 'Masses', None, 'logT'){} 5.56 s elapsed\n",
      "min_logT =  3\n",
      "max_logT =  8\n",
      "Image range (logT):  2.3023145 7.013137\n",
      "Image range (8bit):  0.0 204.66998\n"
     ]
    },
    {
     "name": "stderr",
     "output_type": "stream",
     "text": [
      "\r",
      " 37%|███▋      | 17/46 [02:17<03:58,  8.21s/it]"
     ]
    },
    {
     "name": "stdout",
     "output_type": "stream",
     "text": [
      "Couldn't find a metadata file... for\n",
      " Metadata object at vizdata/h206_spawn_proj_maps_017.hdf5\n",
      "projecting 99541 particles\n",
      "------------------------------------------\n",
      "------------------------------------------\n",
      "minmax(weightMap) 0.0 5.5272054e-14\n",
      "Fraction deposited: 1.0\n",
      "minmax(weightWeightedQuantityMap) 0.0 0.0\n",
      "-done\n",
      "inner_weight_along_los(GasStudio instance, None, 'Masses', None, 'logT'){} 5.52 s elapsed\n",
      "min_logT =  3\n",
      "max_logT =  8\n",
      "Image range (logT):  2.7217894 7.0697675\n",
      "Image range (8bit):  0.0 207.55815\n"
     ]
    },
    {
     "name": "stderr",
     "output_type": "stream",
     "text": [
      "\r",
      " 39%|███▉      | 18/46 [02:25<03:49,  8.21s/it]"
     ]
    },
    {
     "name": "stdout",
     "output_type": "stream",
     "text": [
      "Couldn't find a metadata file... for\n",
      " Metadata object at vizdata/h206_spawn_proj_maps_018.hdf5\n",
      "projecting 94324 particles\n",
      "------------------------------------------\n",
      "------------------------------------------\n",
      "minmax(weightMap) 0.0 1.5758963e-13\n",
      "Fraction deposited: 1.0000002\n",
      "minmax(weightWeightedQuantityMap) 0.0 0.0\n",
      "-done\n",
      "inner_weight_along_los(GasStudio instance, None, 'Masses', None, 'logT'){} 5.33 s elapsed\n",
      "min_logT =  3\n",
      "max_logT =  8\n",
      "Image range (logT):  2.9437058 6.809525\n",
      "Image range (8bit):  0.0 194.28578\n"
     ]
    },
    {
     "name": "stderr",
     "output_type": "stream",
     "text": [
      "\r",
      " 41%|████▏     | 19/46 [02:33<03:40,  8.16s/it]"
     ]
    },
    {
     "name": "stdout",
     "output_type": "stream",
     "text": [
      "Couldn't find a metadata file... for\n",
      " Metadata object at vizdata/h206_spawn_proj_maps_019.hdf5\n",
      "projecting 89454 particles\n",
      "------------------------------------------\n",
      "------------------------------------------\n",
      "minmax(weightMap) 0.0 2.6673454e-14\n",
      "Fraction deposited: 0.99999976\n",
      "minmax(weightWeightedQuantityMap) 0.0 0.0\n",
      "-done\n",
      "inner_weight_along_los(GasStudio instance, None, 'Masses', None, 'logT'){} 5.21 s elapsed\n",
      "min_logT =  3\n",
      "max_logT =  8\n",
      "Image range (logT):  4.0162067 6.6541357\n",
      "Image range (8bit):  51.826546 186.36093\n"
     ]
    },
    {
     "name": "stderr",
     "output_type": "stream",
     "text": [
      "\r",
      " 43%|████▎     | 20/46 [02:41<03:29,  8.08s/it]"
     ]
    },
    {
     "name": "stdout",
     "output_type": "stream",
     "text": [
      "Couldn't find a metadata file... for\n",
      " Metadata object at vizdata/h206_spawn_proj_maps_020.hdf5\n",
      "projecting 91716 particles\n",
      "------------------------------------------\n",
      "------------------------------------------\n",
      "minmax(weightMap) 0.0 3.1620858e-14\n",
      "Fraction deposited: 1.0000002\n",
      "minmax(weightWeightedQuantityMap) 0.0 0.0\n",
      "-done\n",
      "inner_weight_along_los(GasStudio instance, None, 'Masses', None, 'logT'){} 5.39 s elapsed\n",
      "min_logT =  3\n",
      "max_logT =  8\n",
      "Image range (logT):  3.0895958 7.2576246\n",
      "Image range (8bit):  4.5693855 217.13885\n"
     ]
    },
    {
     "name": "stderr",
     "output_type": "stream",
     "text": [
      "\r",
      " 46%|████▌     | 21/46 [02:49<03:21,  8.05s/it]"
     ]
    },
    {
     "name": "stdout",
     "output_type": "stream",
     "text": [
      "Couldn't find a metadata file... for\n",
      " Metadata object at vizdata/h206_spawn_proj_maps_021.hdf5\n",
      "projecting 108008 particles\n",
      "------------------------------------------\n",
      "------------------------------------------\n",
      "minmax(weightMap) 0.0 5.6578294e-14\n",
      "Fraction deposited: 1.0000004\n",
      "minmax(weightWeightedQuantityMap) 0.0 0.0\n",
      "-done\n",
      "inner_weight_along_los(GasStudio instance, None, 'Masses', None, 'logT'){} 5.61 s elapsed\n",
      "min_logT =  3\n",
      "max_logT =  8\n",
      "Image range (logT):  1.8224938 7.023662\n",
      "Image range (8bit):  0.0 205.20677\n"
     ]
    },
    {
     "name": "stderr",
     "output_type": "stream",
     "text": [
      "\r",
      " 48%|████▊     | 22/46 [02:57<03:14,  8.11s/it]"
     ]
    },
    {
     "name": "stdout",
     "output_type": "stream",
     "text": [
      "Couldn't find a metadata file... for\n",
      " Metadata object at vizdata/h206_spawn_proj_maps_022.hdf5\n",
      "projecting 107646 particles\n",
      "------------------------------------------\n",
      "------------------------------------------\n",
      "minmax(weightMap) 0.0 4.694407e-14\n",
      "Fraction deposited: 1.0000005\n",
      "minmax(weightWeightedQuantityMap) 0.0 0.0\n",
      "-done\n",
      "inner_weight_along_los(GasStudio instance, None, 'Masses', None, 'logT'){} 5.56 s elapsed\n",
      "min_logT =  3\n",
      "max_logT =  8\n",
      "Image range (logT):  2.3940032 6.6349096\n",
      "Image range (8bit):  0.0 185.3804\n"
     ]
    },
    {
     "name": "stderr",
     "output_type": "stream",
     "text": [
      "\r",
      " 50%|█████     | 23/46 [03:05<03:06,  8.13s/it]"
     ]
    },
    {
     "name": "stdout",
     "output_type": "stream",
     "text": [
      "Couldn't find a metadata file... for\n",
      " Metadata object at vizdata/h206_spawn_proj_maps_023.hdf5\n",
      "projecting 113031 particles\n",
      "------------------------------------------\n",
      "------------------------------------------\n",
      "minmax(weightMap) 0.0 1.1162603e-13\n",
      "Fraction deposited: 1.0000002\n",
      "minmax(weightWeightedQuantityMap) 0.0 0.0\n",
      "-done\n",
      "inner_weight_along_los(GasStudio instance, None, 'Masses', None, 'logT'){} 5.67 s elapsed\n",
      "min_logT =  3\n",
      "max_logT =  8\n",
      "Image range (logT):  2.1003673 6.7347207\n",
      "Image range (8bit):  0.0 190.47075\n"
     ]
    },
    {
     "name": "stderr",
     "output_type": "stream",
     "text": [
      "\r",
      " 52%|█████▏    | 24/46 [03:14<02:59,  8.16s/it]"
     ]
    },
    {
     "name": "stdout",
     "output_type": "stream",
     "text": [
      "Couldn't find a metadata file... for\n",
      " Metadata object at vizdata/h206_spawn_proj_maps_024.hdf5\n",
      "projecting 96779 particles\n",
      "------------------------------------------\n",
      "------------------------------------------\n",
      "minmax(weightMap) 0.0 1.1670766e-14\n",
      "Fraction deposited: 1.0000005\n",
      "minmax(weightWeightedQuantityMap) 0.0 0.0\n",
      "-done\n",
      "inner_weight_along_los(GasStudio instance, None, 'Masses', None, 'logT'){} 5.63 s elapsed\n",
      "min_logT =  3\n",
      "max_logT =  8\n",
      "Image range (logT):  3.552012 6.992855\n",
      "Image range (8bit):  28.152609 203.6356\n"
     ]
    },
    {
     "name": "stderr",
     "output_type": "stream",
     "text": [
      "\r",
      " 54%|█████▍    | 25/46 [03:22<02:52,  8.23s/it]"
     ]
    },
    {
     "name": "stdout",
     "output_type": "stream",
     "text": [
      "Couldn't find a metadata file... for\n",
      " Metadata object at vizdata/h206_spawn_proj_maps_025.hdf5\n",
      "projecting 86702 particles\n",
      "------------------------------------------\n",
      "------------------------------------------\n",
      "minmax(weightMap) 0.0 3.7949793e-14\n",
      "Fraction deposited: 0.9999999\n",
      "minmax(weightWeightedQuantityMap) 0.0 0.0\n",
      "-done\n",
      "inner_weight_along_los(GasStudio instance, None, 'Masses', None, 'logT'){} 5.35 s elapsed\n",
      "min_logT =  3\n",
      "max_logT =  8\n",
      "Image range (logT):  3.2039585 6.820654\n",
      "Image range (8bit):  10.401884 194.85335\n"
     ]
    },
    {
     "name": "stderr",
     "output_type": "stream",
     "text": [
      "\r",
      " 57%|█████▋    | 26/46 [03:30<02:43,  8.18s/it]"
     ]
    },
    {
     "name": "stdout",
     "output_type": "stream",
     "text": [
      "Couldn't find a metadata file... for\n",
      " Metadata object at vizdata/h206_spawn_proj_maps_026.hdf5\n",
      "projecting 80884 particles\n",
      "------------------------------------------\n",
      "------------------------------------------\n",
      "minmax(weightMap) 0.0 7.42079e-15\n",
      "Fraction deposited: 0.99999994\n",
      "minmax(weightWeightedQuantityMap) 0.0 0.0\n",
      "-done\n",
      "inner_weight_along_los(GasStudio instance, None, 'Masses', None, 'logT'){} 5.59 s elapsed\n",
      "min_logT =  3\n",
      "max_logT =  8\n",
      "Image range (logT):  3.3901954 7.054207\n",
      "Image range (8bit):  19.899963 206.76456\n"
     ]
    },
    {
     "name": "stderr",
     "output_type": "stream",
     "text": [
      "\r",
      " 59%|█████▊    | 27/46 [03:38<02:36,  8.21s/it]"
     ]
    },
    {
     "name": "stdout",
     "output_type": "stream",
     "text": [
      "Couldn't find a metadata file... for\n",
      " Metadata object at vizdata/h206_spawn_proj_maps_027.hdf5\n",
      "projecting 81458 particles\n",
      "------------------------------------------\n",
      "------------------------------------------\n",
      "minmax(weightMap) 0.0 5.733742e-15\n",
      "Fraction deposited: 0.9999998\n",
      "minmax(weightWeightedQuantityMap) 0.0 0.0\n",
      "-done\n",
      "inner_weight_along_los(GasStudio instance, None, 'Masses', None, 'logT'){} 5.63 s elapsed\n",
      "min_logT =  3\n",
      "max_logT =  8\n",
      "Image range (logT):  3.6319048 7.1643763\n",
      "Image range (8bit):  32.227146 212.3832\n"
     ]
    },
    {
     "name": "stderr",
     "output_type": "stream",
     "text": [
      "\r",
      " 61%|██████    | 28/46 [03:47<02:28,  8.25s/it]"
     ]
    },
    {
     "name": "stdout",
     "output_type": "stream",
     "text": [
      "Couldn't find a metadata file... for\n",
      " Metadata object at vizdata/h206_spawn_proj_maps_028.hdf5\n",
      "projecting 69113 particles\n",
      "------------------------------------------\n",
      "------------------------------------------\n",
      "minmax(weightMap) 0.0 6.0800944e-15\n",
      "Fraction deposited: 1.0\n",
      "minmax(weightWeightedQuantityMap) 0.0 0.0\n",
      "-done\n",
      "inner_weight_along_los(GasStudio instance, None, 'Masses', None, 'logT'){} 5.32 s elapsed\n",
      "min_logT =  3\n",
      "max_logT =  8\n",
      "Image range (logT):  3.182452 6.891074\n",
      "Image range (8bit):  9.30505 198.44478\n"
     ]
    },
    {
     "name": "stderr",
     "output_type": "stream",
     "text": [
      "\r",
      " 63%|██████▎   | 29/46 [03:55<02:18,  8.17s/it]"
     ]
    },
    {
     "name": "stdout",
     "output_type": "stream",
     "text": [
      "Couldn't find a metadata file... for\n",
      " Metadata object at vizdata/h206_spawn_proj_maps_029.hdf5\n",
      "projecting 64833 particles\n",
      "------------------------------------------\n",
      "------------------------------------------\n",
      "minmax(weightMap) 0.0 1.5613058e-14\n",
      "Fraction deposited: 1.0\n",
      "minmax(weightWeightedQuantityMap) 0.0 0.0\n",
      "-done\n",
      "inner_weight_along_los(GasStudio instance, None, 'Masses', None, 'logT'){} 5.10 s elapsed\n",
      "min_logT =  3\n",
      "max_logT =  8\n",
      "Image range (logT):  3.5122273 6.7112994\n",
      "Image range (8bit):  26.123592 189.27626\n"
     ]
    },
    {
     "name": "stderr",
     "output_type": "stream",
     "text": [
      "\r",
      " 65%|██████▌   | 30/46 [04:02<02:08,  8.03s/it]"
     ]
    },
    {
     "name": "stdout",
     "output_type": "stream",
     "text": [
      "Couldn't find a metadata file... for\n",
      " Metadata object at vizdata/h206_spawn_proj_maps_030.hdf5\n",
      "projecting 66821 particles\n",
      "------------------------------------------\n",
      "------------------------------------------\n",
      "minmax(weightMap) 0.0 9.219443e-15\n",
      "Fraction deposited: 0.9999998\n",
      "minmax(weightWeightedQuantityMap) 0.0 0.0\n",
      "-done\n",
      "inner_weight_along_los(GasStudio instance, None, 'Masses', None, 'logT'){} 5.20 s elapsed\n",
      "min_logT =  3\n",
      "max_logT =  8\n",
      "Image range (logT):  3.6699429 6.6486273\n",
      "Image range (8bit):  34.167088 186.08\n"
     ]
    },
    {
     "name": "stderr",
     "output_type": "stream",
     "text": [
      "\r",
      " 67%|██████▋   | 31/46 [04:10<01:59,  7.97s/it]"
     ]
    },
    {
     "name": "stdout",
     "output_type": "stream",
     "text": [
      "Couldn't find a metadata file... for\n",
      " Metadata object at vizdata/h206_spawn_proj_maps_031.hdf5\n",
      "projecting 99441 particles\n",
      "------------------------------------------\n",
      "------------------------------------------\n",
      "minmax(weightMap) 0.0 6.861914e-15\n",
      "Fraction deposited: 1.0000001\n",
      "minmax(weightWeightedQuantityMap) 0.0 0.0\n",
      "-done\n",
      "inner_weight_along_los(GasStudio instance, None, 'Masses', None, 'logT'){} 5.73 s elapsed\n",
      "min_logT =  3\n",
      "max_logT =  8\n",
      "Image range (logT):  3.5928037 6.5384297\n",
      "Image range (8bit):  30.23299 180.45992\n"
     ]
    },
    {
     "name": "stderr",
     "output_type": "stream",
     "text": [
      "\r",
      " 70%|██████▉   | 32/46 [04:19<01:53,  8.12s/it]"
     ]
    },
    {
     "name": "stdout",
     "output_type": "stream",
     "text": [
      "Couldn't find a metadata file... for\n",
      " Metadata object at vizdata/h206_spawn_proj_maps_032.hdf5\n",
      "projecting 111378 particles\n",
      "------------------------------------------\n",
      "------------------------------------------\n",
      "minmax(weightMap) 0.0 4.80215e-14\n",
      "Fraction deposited: 1.0000002\n",
      "minmax(weightWeightedQuantityMap) 0.0 0.0\n",
      "-done\n",
      "inner_weight_along_los(GasStudio instance, None, 'Masses', None, 'logT'){} 5.90 s elapsed\n",
      "min_logT =  3\n",
      "max_logT =  8\n",
      "Image range (logT):  2.2346232 6.7010317\n",
      "Image range (8bit):  0.0 188.75262\n"
     ]
    },
    {
     "name": "stderr",
     "output_type": "stream",
     "text": [
      "\r",
      " 72%|███████▏  | 33/46 [04:27<01:47,  8.26s/it]"
     ]
    },
    {
     "name": "stdout",
     "output_type": "stream",
     "text": [
      "Couldn't find a metadata file... for\n",
      " Metadata object at vizdata/h206_spawn_proj_maps_033.hdf5\n",
      "projecting 122539 particles\n",
      "------------------------------------------\n",
      "------------------------------------------\n",
      "minmax(weightMap) 0.0 1.9115888e-13\n",
      "Fraction deposited: 0.99999964\n",
      "minmax(weightWeightedQuantityMap) 0.0 0.0\n",
      "-done\n",
      "inner_weight_along_los(GasStudio instance, None, 'Masses', None, 'logT'){} 5.91 s elapsed\n",
      "min_logT =  3\n",
      "max_logT =  8\n",
      "Image range (logT):  1.8661754 6.905069\n",
      "Image range (8bit):  0.0 199.15851\n"
     ]
    },
    {
     "name": "stderr",
     "output_type": "stream",
     "text": [
      "\r",
      " 74%|███████▍  | 34/46 [04:36<01:40,  8.35s/it]"
     ]
    },
    {
     "name": "stdout",
     "output_type": "stream",
     "text": [
      "Couldn't find a metadata file... for\n",
      " Metadata object at vizdata/h206_spawn_proj_maps_034.hdf5\n",
      "projecting 131085 particles\n",
      "------------------------------------------\n",
      "------------------------------------------\n",
      "minmax(weightMap) 0.0 1.5852078e-13\n",
      "Fraction deposited: 0.99999994\n",
      "minmax(weightWeightedQuantityMap) 0.0 0.0\n",
      "-done\n",
      "inner_weight_along_los(GasStudio instance, None, 'Masses', None, 'logT'){} 6.11 s elapsed\n",
      "min_logT =  3\n",
      "max_logT =  8\n",
      "Image range (logT):  2.2599866 6.721409\n",
      "Image range (8bit):  0.0 189.79185\n"
     ]
    },
    {
     "name": "stderr",
     "output_type": "stream",
     "text": [
      "\r",
      " 76%|███████▌  | 35/46 [04:45<01:33,  8.48s/it]"
     ]
    },
    {
     "name": "stdout",
     "output_type": "stream",
     "text": [
      "Couldn't find a metadata file... for\n",
      " Metadata object at vizdata/h206_spawn_proj_maps_035.hdf5\n",
      "projecting 122581 particles\n",
      "------------------------------------------\n",
      "------------------------------------------\n",
      "minmax(weightMap) 0.0 1.8470413e-13\n",
      "Fraction deposited: 0.99999994\n",
      "minmax(weightWeightedQuantityMap) 0.0 0.0\n",
      "-done\n",
      "inner_weight_along_los(GasStudio instance, None, 'Masses', None, 'logT'){} 6.07 s elapsed\n",
      "min_logT =  3\n",
      "max_logT =  8\n",
      "Image range (logT):  1.9084038 6.782314\n",
      "Image range (8bit):  0.0 192.898\n"
     ]
    },
    {
     "name": "stderr",
     "output_type": "stream",
     "text": [
      "\r",
      " 78%|███████▊  | 36/46 [04:53<01:25,  8.54s/it]"
     ]
    },
    {
     "name": "stdout",
     "output_type": "stream",
     "text": [
      "Couldn't find a metadata file... for\n",
      " Metadata object at vizdata/h206_spawn_proj_maps_036.hdf5\n",
      "projecting 100910 particles\n",
      "------------------------------------------\n",
      "------------------------------------------\n",
      "minmax(weightMap) 0.0 1.4979627e-13\n",
      "Fraction deposited: 0.9999996\n",
      "minmax(weightWeightedQuantityMap) 0.0 0.0\n",
      "-done\n",
      "inner_weight_along_los(GasStudio instance, None, 'Masses', None, 'logT'){} 5.83 s elapsed\n",
      "min_logT =  3\n",
      "max_logT =  8\n",
      "Image range (logT):  1.9529749 6.691225\n",
      "Image range (8bit):  0.0 188.25247\n"
     ]
    },
    {
     "name": "stderr",
     "output_type": "stream",
     "text": [
      "\r",
      " 80%|████████  | 37/46 [05:02<01:16,  8.51s/it]"
     ]
    },
    {
     "name": "stdout",
     "output_type": "stream",
     "text": [
      "Couldn't find a metadata file... for\n",
      " Metadata object at vizdata/h206_spawn_proj_maps_037.hdf5\n",
      "projecting 83971 particles\n",
      "------------------------------------------\n",
      "------------------------------------------\n",
      "minmax(weightMap) 0.0 1.944535e-13\n",
      "Fraction deposited: 1.0\n",
      "minmax(weightWeightedQuantityMap) 0.0 0.0\n",
      "-done\n",
      "inner_weight_along_los(GasStudio instance, None, 'Masses', None, 'logT'){} 5.69 s elapsed\n",
      "min_logT =  3\n",
      "max_logT =  8\n",
      "Image range (logT):  1.8385671 6.6471047\n",
      "Image range (8bit):  0.0 186.00235\n"
     ]
    },
    {
     "name": "stderr",
     "output_type": "stream",
     "text": [
      "\r",
      " 83%|████████▎ | 38/46 [05:10<01:07,  8.44s/it]"
     ]
    },
    {
     "name": "stdout",
     "output_type": "stream",
     "text": [
      "Couldn't find a metadata file... for\n",
      " Metadata object at vizdata/h206_spawn_proj_maps_038.hdf5\n",
      "projecting 75286 particles\n",
      "------------------------------------------\n",
      "------------------------------------------\n",
      "minmax(weightMap) 0.0 2.02006e-13\n",
      "Fraction deposited: 0.99999994\n",
      "minmax(weightWeightedQuantityMap) 0.0 0.0\n",
      "-done\n",
      "inner_weight_along_los(GasStudio instance, None, 'Masses', None, 'logT'){} 5.54 s elapsed\n",
      "min_logT =  3\n",
      "max_logT =  8\n",
      "Image range (logT):  1.8573369 6.858198\n",
      "Image range (8bit):  0.0 196.76811\n"
     ]
    },
    {
     "name": "stderr",
     "output_type": "stream",
     "text": [
      "\r",
      " 85%|████████▍ | 39/46 [05:18<00:58,  8.35s/it]"
     ]
    },
    {
     "name": "stdout",
     "output_type": "stream",
     "text": [
      "Couldn't find a metadata file... for\n",
      " Metadata object at vizdata/h206_spawn_proj_maps_039.hdf5\n",
      "projecting 53950 particles\n",
      "------------------------------------------\n",
      "------------------------------------------\n",
      "minmax(weightMap) 0.0 1.4138219e-13\n",
      "Fraction deposited: 1.0\n",
      "minmax(weightWeightedQuantityMap) 0.0 0.0\n",
      "-done\n",
      "inner_weight_along_los(GasStudio instance, None, 'Masses', None, 'logT'){} 4.93 s elapsed\n",
      "min_logT =  3\n",
      "max_logT =  8\n",
      "Image range (logT):  1.9427707 6.978365\n",
      "Image range (8bit):  0.0 202.89662\n"
     ]
    },
    {
     "name": "stderr",
     "output_type": "stream",
     "text": [
      "\r",
      " 87%|████████▋ | 40/46 [05:26<00:48,  8.13s/it]"
     ]
    },
    {
     "name": "stdout",
     "output_type": "stream",
     "text": [
      "Couldn't find a metadata file... for\n",
      " Metadata object at vizdata/h206_spawn_proj_maps_040.hdf5\n",
      "projecting 49045 particles\n",
      "------------------------------------------\n",
      "------------------------------------------\n",
      "minmax(weightMap) 0.0 1.5217425e-13\n",
      "Fraction deposited: 1.0\n",
      "minmax(weightWeightedQuantityMap) 0.0 0.0\n",
      "-done\n",
      "inner_weight_along_los(GasStudio instance, None, 'Masses', None, 'logT'){} 4.90 s elapsed\n",
      "min_logT =  3\n",
      "max_logT =  8\n",
      "Image range (logT):  1.741373 6.860215\n",
      "Image range (8bit):  0.0 196.87097\n"
     ]
    },
    {
     "name": "stderr",
     "output_type": "stream",
     "text": [
      "\r",
      " 89%|████████▉ | 41/46 [05:33<00:39,  7.96s/it]"
     ]
    },
    {
     "name": "stdout",
     "output_type": "stream",
     "text": [
      "Couldn't find a metadata file... for\n",
      " Metadata object at vizdata/h206_spawn_proj_maps_041.hdf5\n",
      "projecting 55641 particles\n",
      "------------------------------------------\n",
      "------------------------------------------\n",
      "minmax(weightMap) 0.0 3.9361875e-14\n",
      "Fraction deposited: 0.99999994\n",
      "minmax(weightWeightedQuantityMap) 0.0 0.0\n",
      "-done\n",
      "inner_weight_along_los(GasStudio instance, None, 'Masses', None, 'logT'){} 5.30 s elapsed\n",
      "min_logT =  3\n",
      "max_logT =  8\n",
      "Image range (logT):  2.432299 6.9387264\n",
      "Image range (8bit):  0.0 200.87505\n"
     ]
    },
    {
     "name": "stderr",
     "output_type": "stream",
     "text": [
      "\r",
      " 91%|█████████▏| 42/46 [05:41<00:31,  7.94s/it]"
     ]
    },
    {
     "name": "stdout",
     "output_type": "stream",
     "text": [
      "Couldn't find a metadata file... for\n",
      " Metadata object at vizdata/h206_spawn_proj_maps_042.hdf5\n",
      "projecting 55128 particles\n",
      "------------------------------------------\n",
      "------------------------------------------\n",
      "minmax(weightMap) 0.0 1.3459145e-13\n",
      "Fraction deposited: 1.0000001\n",
      "minmax(weightWeightedQuantityMap) 0.0 0.0\n",
      "-done\n",
      "inner_weight_along_los(GasStudio instance, None, 'Masses', None, 'logT'){} 5.27 s elapsed\n",
      "min_logT =  3\n",
      "max_logT =  8\n",
      "Image range (logT):  2.5124135 6.739829\n",
      "Image range (8bit):  0.0 190.73128\n"
     ]
    },
    {
     "name": "stderr",
     "output_type": "stream",
     "text": [
      "\r",
      " 93%|█████████▎| 43/46 [05:49<00:23,  7.96s/it]"
     ]
    },
    {
     "name": "stdout",
     "output_type": "stream",
     "text": [
      "Couldn't find a metadata file... for\n",
      " Metadata object at vizdata/h206_spawn_proj_maps_043.hdf5\n",
      "projecting 30938 particles\n",
      "------------------------------------------\n",
      "------------------------------------------\n",
      "minmax(weightMap) 0.0 8.773358e-14\n",
      "Fraction deposited: 1.0000002\n",
      "minmax(weightWeightedQuantityMap) 0.0 0.0\n",
      "-done\n",
      "inner_weight_along_los(GasStudio instance, None, 'Masses', None, 'logT'){} 4.33 s elapsed\n",
      "min_logT =  3\n",
      "max_logT =  8\n",
      "Image range (logT):  3.1623108 6.8113565\n",
      "Image range (8bit):  8.277853 194.37918\n"
     ]
    },
    {
     "name": "stderr",
     "output_type": "stream",
     "text": [
      "\r",
      " 96%|█████████▌| 44/46 [05:56<00:15,  7.68s/it]"
     ]
    },
    {
     "name": "stdout",
     "output_type": "stream",
     "text": [
      "Couldn't find a metadata file... for\n",
      " Metadata object at vizdata/h206_spawn_proj_maps_044.hdf5\n",
      "projecting 23554 particles\n",
      "------------------------------------------\n",
      "------------------------------------------\n",
      "minmax(weightMap) 0.0 2.8940487e-16\n",
      "Fraction deposited: 1.0000001\n",
      "minmax(weightWeightedQuantityMap) 0.0 0.0\n",
      "-done\n",
      "inner_weight_along_los(GasStudio instance, None, 'Masses', None, 'logT'){} 3.85 s elapsed\n",
      "min_logT =  3\n",
      "max_logT =  8\n",
      "Image range (logT):  4.847376 7.9936404\n",
      "Image range (8bit):  94.21617 254.67566\n"
     ]
    },
    {
     "name": "stderr",
     "output_type": "stream",
     "text": [
      "\r",
      " 98%|█████████▊| 45/46 [06:03<00:07,  7.37s/it]"
     ]
    },
    {
     "name": "stdout",
     "output_type": "stream",
     "text": [
      "Couldn't find a metadata file... for\n",
      " Metadata object at vizdata/h206_spawn_proj_maps_045.hdf5\n",
      "projecting 18528 particles\n",
      "------------------------------------------\n",
      "------------------------------------------\n",
      "minmax(weightMap) 0.0 7.573432e-14\n",
      "Fraction deposited: 0.99999994\n",
      "minmax(weightWeightedQuantityMap) 0.0 0.0\n",
      "-done\n",
      "inner_weight_along_los(GasStudio instance, None, 'Masses', None, 'logT'){} 3.78 s elapsed\n",
      "min_logT =  3\n",
      "max_logT =  8\n",
      "Image range (logT):  2.2470539 7.156825\n",
      "Image range (8bit):  0.0 211.99808\n"
     ]
    },
    {
     "name": "stderr",
     "output_type": "stream",
     "text": [
      "100%|██████████| 46/46 [06:09<00:00,  8.04s/it]\n",
      "  0%|          | 0/46 [00:00<?, ?it/s]"
     ]
    },
    {
     "name": "stdout",
     "output_type": "stream",
     "text": [
      "Couldn't find a metadata file... for\n",
      " Metadata object at vizdata/h206_push_proj_maps_000.hdf5\n",
      "projecting 3005178 particles\n",
      "------------------------------------------\n",
      "------------------------------------------\n",
      "minmax(weightMap) 0.0 2.103766e-14\n",
      "Fraction deposited: 1.0000026\n",
      "minmax(weightWeightedQuantityMap) 0.0 0.0\n",
      "-done\n",
      "inner_weight_along_los(GasStudio instance, None, 'Masses', None, 'logT'){} 11.96 s elapsed\n",
      "min_logT =  3\n",
      "max_logT =  8\n",
      "Image range (logT):  2.2113302 2.2402654\n",
      "Image range (8bit):  0.0 0.0\n"
     ]
    },
    {
     "name": "stderr",
     "output_type": "stream",
     "text": [
      "\r",
      "  2%|▏         | 1/46 [00:14<10:54, 14.55s/it]"
     ]
    },
    {
     "name": "stdout",
     "output_type": "stream",
     "text": [
      "Couldn't find a metadata file... for\n",
      " Metadata object at vizdata/h206_push_proj_maps_001.hdf5\n",
      "projecting 70601 particles\n",
      "------------------------------------------\n",
      "------------------------------------------\n",
      "minmax(weightMap) 0.0 5.782339e-14\n",
      "Fraction deposited: 1.0000002\n",
      "minmax(weightWeightedQuantityMap) 0.0 0.0\n",
      "-done\n",
      "inner_weight_along_los(GasStudio instance, None, 'Masses', None, 'logT'){} 4.43 s elapsed\n",
      "min_logT =  3\n",
      "max_logT =  8\n",
      "Image range (logT):  1.6988758 5.361543\n",
      "Image range (8bit):  0.0 120.438705\n"
     ]
    },
    {
     "name": "stderr",
     "output_type": "stream",
     "text": [
      "\r",
      "  4%|▍         | 2/46 [00:21<07:26, 10.16s/it]"
     ]
    },
    {
     "name": "stdout",
     "output_type": "stream",
     "text": [
      "Couldn't find a metadata file... for\n",
      " Metadata object at vizdata/h206_push_proj_maps_002.hdf5\n",
      "projecting 74351 particles\n",
      "------------------------------------------\n",
      "------------------------------------------\n",
      "minmax(weightMap) 0.0 8.557588e-14\n",
      "Fraction deposited: 1.0000001\n",
      "minmax(weightWeightedQuantityMap) 0.0 0.0\n",
      "-done\n",
      "inner_weight_along_los(GasStudio instance, None, 'Masses', None, 'logT'){} 4.49 s elapsed\n",
      "min_logT =  3\n",
      "max_logT =  8\n",
      "Image range (logT):  1.8625193 5.250434\n",
      "Image range (8bit):  0.0 114.772125\n"
     ]
    },
    {
     "name": "stderr",
     "output_type": "stream",
     "text": [
      "\r",
      "  7%|▋         | 3/46 [00:28<06:15,  8.74s/it]"
     ]
    },
    {
     "name": "stdout",
     "output_type": "stream",
     "text": [
      "Couldn't find a metadata file... for\n",
      " Metadata object at vizdata/h206_push_proj_maps_003.hdf5\n",
      "projecting 85024 particles\n",
      "------------------------------------------\n",
      "------------------------------------------\n",
      "minmax(weightMap) 0.0 9.088892e-14\n",
      "Fraction deposited: 1.0000004\n",
      "minmax(weightWeightedQuantityMap) 0.0 0.0\n",
      "-done\n",
      "inner_weight_along_los(GasStudio instance, None, 'Masses', None, 'logT'){} 4.81 s elapsed\n",
      "min_logT =  3\n",
      "max_logT =  8\n",
      "Image range (logT):  1.6638457 5.6989975\n",
      "Image range (8bit):  0.0 137.64888\n"
     ]
    },
    {
     "name": "stderr",
     "output_type": "stream",
     "text": [
      "\r",
      "  9%|▊         | 4/46 [00:36<05:45,  8.23s/it]"
     ]
    },
    {
     "name": "stdout",
     "output_type": "stream",
     "text": [
      "Couldn't find a metadata file... for\n",
      " Metadata object at vizdata/h206_push_proj_maps_004.hdf5\n",
      "projecting 95381 particles\n",
      "------------------------------------------\n",
      "------------------------------------------\n",
      "minmax(weightMap) 0.0 1.02761434e-13\n",
      "Fraction deposited: 1.0000001\n",
      "minmax(weightWeightedQuantityMap) 0.0 0.0\n",
      "-done\n",
      "inner_weight_along_los(GasStudio instance, None, 'Masses', None, 'logT'){} 4.69 s elapsed\n",
      "min_logT =  3\n",
      "max_logT =  8\n",
      "Image range (logT):  1.6207738 5.903199\n",
      "Image range (8bit):  0.0 148.06316\n"
     ]
    },
    {
     "name": "stderr",
     "output_type": "stream",
     "text": [
      "\r",
      " 11%|█         | 5/46 [00:43<05:24,  7.92s/it]"
     ]
    },
    {
     "name": "stdout",
     "output_type": "stream",
     "text": [
      "Couldn't find a metadata file... for\n",
      " Metadata object at vizdata/h206_push_proj_maps_005.hdf5\n",
      "projecting 98695 particles\n",
      "------------------------------------------\n",
      "------------------------------------------\n",
      "minmax(weightMap) 0.0 1.7627729e-13\n",
      "Fraction deposited: 1.0000005\n",
      "minmax(weightWeightedQuantityMap) 0.0 0.0\n",
      "-done\n",
      "inner_weight_along_los(GasStudio instance, None, 'Masses', None, 'logT'){} 4.63 s elapsed\n",
      "min_logT =  3\n",
      "max_logT =  8\n",
      "Image range (logT):  1.9986573 6.1180873\n",
      "Image range (8bit):  0.0 159.02246\n"
     ]
    },
    {
     "name": "stderr",
     "output_type": "stream",
     "text": [
      "\r",
      " 13%|█▎        | 6/46 [00:50<05:10,  7.77s/it]"
     ]
    },
    {
     "name": "stdout",
     "output_type": "stream",
     "text": [
      "Couldn't find a metadata file... for\n",
      " Metadata object at vizdata/h206_push_proj_maps_006.hdf5\n",
      "projecting 101864 particles\n",
      "------------------------------------------\n",
      "------------------------------------------\n",
      "minmax(weightMap) 0.0 1.5510276e-13\n",
      "Fraction deposited: 0.9999996\n",
      "minmax(weightWeightedQuantityMap) 0.0 0.0\n",
      "-done\n",
      "inner_weight_along_los(GasStudio instance, None, 'Masses', None, 'logT'){} 4.57 s elapsed\n",
      "min_logT =  3\n",
      "max_logT =  8\n",
      "Image range (logT):  1.8938651 6.4102287\n",
      "Image range (8bit):  0.0 173.92166\n"
     ]
    },
    {
     "name": "stderr",
     "output_type": "stream",
     "text": [
      "\r",
      " 15%|█▌        | 7/46 [00:58<04:55,  7.59s/it]"
     ]
    },
    {
     "name": "stdout",
     "output_type": "stream",
     "text": [
      "Couldn't find a metadata file... for\n",
      " Metadata object at vizdata/h206_push_proj_maps_007.hdf5\n",
      "projecting 104375 particles\n",
      "------------------------------------------\n",
      "------------------------------------------\n",
      "minmax(weightMap) 0.0 1.9169273e-13\n",
      "Fraction deposited: 0.9999999\n",
      "minmax(weightWeightedQuantityMap) 0.0 0.0\n",
      "-done\n",
      "inner_weight_along_los(GasStudio instance, None, 'Masses', None, 'logT'){} 4.71 s elapsed\n",
      "min_logT =  3\n",
      "max_logT =  8\n",
      "Image range (logT):  2.079699 6.3148985\n",
      "Image range (8bit):  0.0 169.05983\n"
     ]
    },
    {
     "name": "stderr",
     "output_type": "stream",
     "text": [
      "\r",
      " 17%|█▋        | 8/46 [01:05<04:43,  7.46s/it]"
     ]
    },
    {
     "name": "stdout",
     "output_type": "stream",
     "text": [
      "Couldn't find a metadata file... for\n",
      " Metadata object at vizdata/h206_push_proj_maps_008.hdf5\n",
      "projecting 103665 particles\n",
      "------------------------------------------\n",
      "------------------------------------------\n",
      "minmax(weightMap) 0.0 1.5242229e-13\n",
      "Fraction deposited: 1.0000002\n",
      "minmax(weightWeightedQuantityMap) 0.0 0.0\n",
      "-done\n",
      "inner_weight_along_los(GasStudio instance, None, 'Masses', None, 'logT'){} 4.59 s elapsed\n",
      "min_logT =  3\n",
      "max_logT =  8\n",
      "Image range (logT):  2.1361675 6.241865\n",
      "Image range (8bit):  0.0 165.33511\n"
     ]
    },
    {
     "name": "stderr",
     "output_type": "stream",
     "text": [
      "\r",
      " 20%|█▉        | 9/46 [01:12<04:36,  7.49s/it]"
     ]
    },
    {
     "name": "stdout",
     "output_type": "stream",
     "text": [
      "Couldn't find a metadata file... for\n",
      " Metadata object at vizdata/h206_push_proj_maps_009.hdf5\n",
      "projecting 105884 particles\n",
      "------------------------------------------\n",
      "------------------------------------------\n",
      "minmax(weightMap) 0.0 3.9036182e-13\n",
      "Fraction deposited: 0.9999998\n",
      "minmax(weightWeightedQuantityMap) 0.0 0.0\n",
      "-done\n",
      "inner_weight_along_los(GasStudio instance, None, 'Masses', None, 'logT'){} 4.61 s elapsed\n",
      "min_logT =  3\n",
      "max_logT =  8\n",
      "Image range (logT):  2.4358678 6.130529\n",
      "Image range (8bit):  0.0 159.65698\n"
     ]
    },
    {
     "name": "stderr",
     "output_type": "stream",
     "text": [
      "\r",
      " 22%|██▏       | 10/46 [01:20<04:25,  7.37s/it]"
     ]
    },
    {
     "name": "stdout",
     "output_type": "stream",
     "text": [
      "Couldn't find a metadata file... for\n",
      " Metadata object at vizdata/h206_push_proj_maps_010.hdf5\n",
      "projecting 110835 particles\n",
      "------------------------------------------\n",
      "------------------------------------------\n",
      "minmax(weightMap) 0.0 1.1337887e-13\n",
      "Fraction deposited: 1.0000002\n",
      "minmax(weightWeightedQuantityMap) 0.0 0.0\n",
      "-done\n",
      "inner_weight_along_los(GasStudio instance, None, 'Masses', None, 'logT'){} 4.62 s elapsed\n",
      "min_logT =  3\n",
      "max_logT =  8\n",
      "Image range (logT):  2.1280162 6.454551\n",
      "Image range (8bit):  0.0 176.18211\n"
     ]
    },
    {
     "name": "stderr",
     "output_type": "stream",
     "text": [
      "\r",
      " 24%|██▍       | 11/46 [01:27<04:15,  7.29s/it]"
     ]
    },
    {
     "name": "stdout",
     "output_type": "stream",
     "text": [
      "Couldn't find a metadata file... for\n",
      " Metadata object at vizdata/h206_push_proj_maps_011.hdf5\n",
      "projecting 123799 particles\n",
      "------------------------------------------\n",
      "------------------------------------------\n",
      "minmax(weightMap) 0.0 1.6275046e-13\n",
      "Fraction deposited: 0.99999994\n",
      "minmax(weightWeightedQuantityMap) 0.0 0.0\n",
      "-done\n",
      "inner_weight_along_los(GasStudio instance, None, 'Masses', None, 'logT'){} 5.22 s elapsed\n",
      "min_logT =  3\n",
      "max_logT =  8\n",
      "Image range (logT):  1.9958706 6.7657585\n",
      "Image range (8bit):  0.0 192.05368\n"
     ]
    },
    {
     "name": "stderr",
     "output_type": "stream",
     "text": [
      "\r",
      " 26%|██▌       | 12/46 [01:34<04:13,  7.44s/it]"
     ]
    },
    {
     "name": "stdout",
     "output_type": "stream",
     "text": [
      "Couldn't find a metadata file... for\n",
      " Metadata object at vizdata/h206_push_proj_maps_012.hdf5\n",
      "projecting 162578 particles\n",
      "------------------------------------------\n",
      "------------------------------------------\n",
      "minmax(weightMap) 0.0 1.2580456e-13\n",
      "Fraction deposited: 0.9999997\n",
      "minmax(weightWeightedQuantityMap) 0.0 0.0\n",
      "-done\n",
      "inner_weight_along_los(GasStudio instance, None, 'Masses', None, 'logT'){} 5.72 s elapsed\n",
      "min_logT =  3\n",
      "max_logT =  8\n",
      "Image range (logT):  2.1657944 7.284574\n",
      "Image range (8bit):  0.0 218.51328\n"
     ]
    },
    {
     "name": "stderr",
     "output_type": "stream",
     "text": [
      "\r",
      " 28%|██▊       | 13/46 [01:43<04:15,  7.75s/it]"
     ]
    },
    {
     "name": "stdout",
     "output_type": "stream",
     "text": [
      "Couldn't find a metadata file... for\n",
      " Metadata object at vizdata/h206_push_proj_maps_013.hdf5\n",
      "projecting 233490 particles\n",
      "------------------------------------------\n",
      "------------------------------------------\n",
      "minmax(weightMap) 0.0 1.2326059e-12\n",
      "Fraction deposited: 0.9999998\n",
      "minmax(weightWeightedQuantityMap) 0.0 0.0\n",
      "-done\n",
      "inner_weight_along_los(GasStudio instance, None, 'Masses', None, 'logT'){} 5.60 s elapsed\n",
      "min_logT =  3\n",
      "max_logT =  8\n",
      "Image range (logT):  2.3369143 7.117694\n",
      "Image range (8bit):  0.0 210.0024\n"
     ]
    },
    {
     "name": "stderr",
     "output_type": "stream",
     "text": [
      "\r",
      " 30%|███       | 14/46 [01:51<04:12,  7.89s/it]"
     ]
    },
    {
     "name": "stdout",
     "output_type": "stream",
     "text": [
      "Couldn't find a metadata file... for\n",
      " Metadata object at vizdata/h206_push_proj_maps_014.hdf5\n",
      "projecting 203129 particles\n",
      "------------------------------------------\n",
      "------------------------------------------\n",
      "minmax(weightMap) 0.0 4.4524206e-14\n",
      "Fraction deposited: 0.99999964\n",
      "minmax(weightWeightedQuantityMap) 0.0 0.0\n",
      "-done\n",
      "inner_weight_along_los(GasStudio instance, None, 'Masses', None, 'logT'){} 6.29 s elapsed\n",
      "min_logT =  3\n",
      "max_logT =  8\n",
      "Image range (logT):  2.3905942 7.078003\n",
      "Image range (8bit):  0.0 207.97815\n"
     ]
    },
    {
     "name": "stderr",
     "output_type": "stream",
     "text": [
      "\r",
      " 33%|███▎      | 15/46 [02:00<04:13,  8.18s/it]"
     ]
    },
    {
     "name": "stdout",
     "output_type": "stream",
     "text": [
      "Couldn't find a metadata file... for\n",
      " Metadata object at vizdata/h206_push_proj_maps_015.hdf5\n",
      "projecting 168328 particles\n",
      "------------------------------------------\n",
      "------------------------------------------\n",
      "minmax(weightMap) 0.0 4.0528317e-13\n",
      "Fraction deposited: 0.99999964\n",
      "minmax(weightWeightedQuantityMap) 0.0 0.0\n",
      "-done\n",
      "inner_weight_along_los(GasStudio instance, None, 'Masses', None, 'logT'){} 6.40 s elapsed\n",
      "min_logT =  3\n",
      "max_logT =  8\n",
      "Image range (logT):  2.18126 6.814766\n",
      "Image range (8bit):  0.0 194.55305\n"
     ]
    },
    {
     "name": "stderr",
     "output_type": "stream",
     "text": [
      "\r",
      " 35%|███▍      | 16/46 [02:09<04:12,  8.42s/it]"
     ]
    },
    {
     "name": "stdout",
     "output_type": "stream",
     "text": [
      "Couldn't find a metadata file... for\n",
      " Metadata object at vizdata/h206_push_proj_maps_016.hdf5\n",
      "projecting 156717 particles\n",
      "------------------------------------------\n",
      "------------------------------------------\n",
      "minmax(weightMap) 0.0 4.7879615e-13\n",
      "Fraction deposited: 0.9999998\n",
      "minmax(weightWeightedQuantityMap) 0.0 0.0\n",
      "-done\n",
      "inner_weight_along_los(GasStudio instance, None, 'Masses', None, 'logT'){} 6.27 s elapsed\n",
      "min_logT =  3\n",
      "max_logT =  8\n",
      "Image range (logT):  2.2635858 6.8613935\n",
      "Image range (8bit):  0.0 196.93106\n"
     ]
    },
    {
     "name": "stderr",
     "output_type": "stream",
     "text": [
      "\r",
      " 37%|███▋      | 17/46 [02:18<04:08,  8.58s/it]"
     ]
    },
    {
     "name": "stdout",
     "output_type": "stream",
     "text": [
      "Couldn't find a metadata file... for\n",
      " Metadata object at vizdata/h206_push_proj_maps_017.hdf5\n",
      "projecting 145694 particles\n",
      "------------------------------------------\n",
      "------------------------------------------\n",
      "minmax(weightMap) 0.0 2.525466e-13\n",
      "Fraction deposited: 1.0\n",
      "minmax(weightWeightedQuantityMap) 0.0 0.0\n",
      "-done\n",
      "inner_weight_along_los(GasStudio instance, None, 'Masses', None, 'logT'){} 5.99 s elapsed\n",
      "min_logT =  3\n",
      "max_logT =  8\n",
      "Image range (logT):  1.8872938 6.997244\n",
      "Image range (8bit):  0.0 203.85944\n"
     ]
    },
    {
     "name": "stderr",
     "output_type": "stream",
     "text": [
      "\r",
      " 39%|███▉      | 18/46 [02:26<04:00,  8.59s/it]"
     ]
    },
    {
     "name": "stdout",
     "output_type": "stream",
     "text": [
      "Couldn't find a metadata file... for\n",
      " Metadata object at vizdata/h206_push_proj_maps_018.hdf5\n",
      "projecting 139026 particles\n",
      "------------------------------------------\n",
      "------------------------------------------\n",
      "minmax(weightMap) 0.0 3.428813e-13\n",
      "Fraction deposited: 0.99999964\n",
      "minmax(weightWeightedQuantityMap) 0.0 0.0\n",
      "-done\n",
      "inner_weight_along_los(GasStudio instance, None, 'Masses', None, 'logT'){} 5.91 s elapsed\n",
      "min_logT =  3\n",
      "max_logT =  8\n",
      "Image range (logT):  2.0279486 6.887353\n",
      "Image range (8bit):  0.0 198.255\n"
     ]
    },
    {
     "name": "stderr",
     "output_type": "stream",
     "text": [
      "\r",
      " 41%|████▏     | 19/46 [02:35<03:51,  8.57s/it]"
     ]
    },
    {
     "name": "stdout",
     "output_type": "stream",
     "text": [
      "Couldn't find a metadata file... for\n",
      " Metadata object at vizdata/h206_push_proj_maps_019.hdf5\n",
      "projecting 135394 particles\n",
      "------------------------------------------\n",
      "------------------------------------------\n",
      "minmax(weightMap) 0.0 1.551816e-13\n",
      "Fraction deposited: 1.0\n",
      "minmax(weightWeightedQuantityMap) 0.0 0.0\n",
      "-done\n",
      "inner_weight_along_los(GasStudio instance, None, 'Masses', None, 'logT'){} 5.75 s elapsed\n",
      "min_logT =  3\n",
      "max_logT =  8\n",
      "Image range (logT):  2.4640114 6.636915\n",
      "Image range (8bit):  0.0 185.48267\n"
     ]
    },
    {
     "name": "stderr",
     "output_type": "stream",
     "text": [
      "\r",
      " 43%|████▎     | 20/46 [02:43<03:41,  8.51s/it]"
     ]
    },
    {
     "name": "stdout",
     "output_type": "stream",
     "text": [
      "Couldn't find a metadata file... for\n",
      " Metadata object at vizdata/h206_push_proj_maps_020.hdf5\n",
      "projecting 148375 particles\n",
      "------------------------------------------\n",
      "------------------------------------------\n",
      "minmax(weightMap) 0.0 2.023389e-13\n",
      "Fraction deposited: 1.0\n",
      "minmax(weightWeightedQuantityMap) 0.0 0.0\n",
      "-done\n",
      "inner_weight_along_los(GasStudio instance, None, 'Masses', None, 'logT'){} 5.74 s elapsed\n",
      "min_logT =  3\n",
      "max_logT =  8\n",
      "Image range (logT):  2.2931826 6.402341\n",
      "Image range (8bit):  0.0 173.5194\n"
     ]
    },
    {
     "name": "stderr",
     "output_type": "stream",
     "text": [
      "\r",
      " 46%|████▌     | 21/46 [02:52<03:31,  8.46s/it]"
     ]
    },
    {
     "name": "stdout",
     "output_type": "stream",
     "text": [
      "Couldn't find a metadata file... for\n",
      " Metadata object at vizdata/h206_push_proj_maps_021.hdf5\n",
      "projecting 169487 particles\n",
      "------------------------------------------\n",
      "------------------------------------------\n",
      "minmax(weightMap) 0.0 4.152541e-13\n",
      "Fraction deposited: 1.0000001\n",
      "minmax(weightWeightedQuantityMap) 0.0 0.0\n",
      "-done\n",
      "inner_weight_along_los(GasStudio instance, None, 'Masses', None, 'logT'){} 6.16 s elapsed\n",
      "min_logT =  3\n",
      "max_logT =  8\n",
      "Image range (logT):  1.8292916 6.651512\n",
      "Image range (8bit):  0.0 186.22713\n"
     ]
    },
    {
     "name": "stderr",
     "output_type": "stream",
     "text": [
      "\r",
      " 48%|████▊     | 22/46 [03:00<03:25,  8.55s/it]"
     ]
    },
    {
     "name": "stdout",
     "output_type": "stream",
     "text": [
      "Couldn't find a metadata file... for\n",
      " Metadata object at vizdata/h206_push_proj_maps_022.hdf5\n",
      "projecting 174219 particles\n",
      "------------------------------------------\n",
      "------------------------------------------\n",
      "minmax(weightMap) 0.0 3.0632704e-13\n",
      "Fraction deposited: 0.99999976\n",
      "minmax(weightWeightedQuantityMap) 0.0 0.0\n",
      "-done\n",
      "inner_weight_along_los(GasStudio instance, None, 'Masses', None, 'logT'){} 6.16 s elapsed\n",
      "min_logT =  3\n",
      "max_logT =  8\n",
      "Image range (logT):  1.9964529 6.7223525\n",
      "Image range (8bit):  0.0 189.83997\n"
     ]
    },
    {
     "name": "stderr",
     "output_type": "stream",
     "text": [
      "\r",
      " 50%|█████     | 23/46 [03:09<03:18,  8.63s/it]"
     ]
    },
    {
     "name": "stdout",
     "output_type": "stream",
     "text": [
      "Couldn't find a metadata file... for\n",
      " Metadata object at vizdata/h206_push_proj_maps_023.hdf5\n",
      "projecting 166288 particles\n",
      "------------------------------------------\n",
      "------------------------------------------\n",
      "minmax(weightMap) 0.0 3.8315534e-13\n",
      "Fraction deposited: 0.9999999\n",
      "minmax(weightWeightedQuantityMap) 0.0 0.0\n",
      "-done\n",
      "inner_weight_along_los(GasStudio instance, None, 'Masses', None, 'logT'){} 6.49 s elapsed\n",
      "min_logT =  3\n",
      "max_logT =  8\n",
      "Image range (logT):  1.8454322 6.6393757\n",
      "Image range (8bit):  0.0 185.60815\n"
     ]
    },
    {
     "name": "stderr",
     "output_type": "stream",
     "text": [
      "\r",
      " 52%|█████▏    | 24/46 [03:18<03:12,  8.77s/it]"
     ]
    },
    {
     "name": "stdout",
     "output_type": "stream",
     "text": [
      "Couldn't find a metadata file... for\n",
      " Metadata object at vizdata/h206_push_proj_maps_024.hdf5\n",
      "projecting 145218 particles\n",
      "------------------------------------------\n",
      "------------------------------------------\n",
      "minmax(weightMap) 0.0 4.1682288e-13\n",
      "Fraction deposited: 0.9999998\n",
      "minmax(weightWeightedQuantityMap) 0.0 0.0\n",
      "-done\n",
      "inner_weight_along_los(GasStudio instance, None, 'Masses', None, 'logT'){} 6.36 s elapsed\n",
      "min_logT =  3\n",
      "max_logT =  8\n",
      "Image range (logT):  2.0743182 6.5723276\n",
      "Image range (8bit):  0.0 182.1887\n"
     ]
    },
    {
     "name": "stderr",
     "output_type": "stream",
     "text": [
      "\r",
      " 54%|█████▍    | 25/46 [03:27<03:04,  8.78s/it]"
     ]
    },
    {
     "name": "stdout",
     "output_type": "stream",
     "text": [
      "Couldn't find a metadata file... for\n",
      " Metadata object at vizdata/h206_push_proj_maps_025.hdf5\n",
      "projecting 140019 particles\n",
      "------------------------------------------\n",
      "------------------------------------------\n",
      "minmax(weightMap) 0.0 5.2318036e-15\n",
      "Fraction deposited: 1.0\n",
      "minmax(weightWeightedQuantityMap) 0.0 0.0\n",
      "-done\n",
      "inner_weight_along_los(GasStudio instance, None, 'Masses', None, 'logT'){} 6.51 s elapsed\n",
      "min_logT =  3\n",
      "max_logT =  8\n",
      "Image range (logT):  3.7325742 6.776966\n",
      "Image range (8bit):  37.361286 192.62527\n"
     ]
    },
    {
     "name": "stderr",
     "output_type": "stream",
     "text": [
      "\r",
      " 57%|█████▋    | 26/46 [03:36<02:58,  8.90s/it]"
     ]
    },
    {
     "name": "stdout",
     "output_type": "stream",
     "text": [
      "Couldn't find a metadata file... for\n",
      " Metadata object at vizdata/h206_push_proj_maps_026.hdf5\n",
      "projecting 115184 particles\n",
      "------------------------------------------\n",
      "------------------------------------------\n",
      "minmax(weightMap) 0.0 6.080546e-15\n",
      "Fraction deposited: 0.99999976\n",
      "minmax(weightWeightedQuantityMap) 0.0 0.0\n",
      "-done\n",
      "inner_weight_along_los(GasStudio instance, None, 'Masses', None, 'logT'){} 6.24 s elapsed\n",
      "min_logT =  3\n",
      "max_logT =  8\n",
      "Image range (logT):  3.993128 7.2722163\n",
      "Image range (8bit):  50.64953 217.88303\n"
     ]
    },
    {
     "name": "stderr",
     "output_type": "stream",
     "text": [
      "\r",
      " 59%|█████▊    | 27/46 [03:45<02:49,  8.94s/it]"
     ]
    },
    {
     "name": "stdout",
     "output_type": "stream",
     "text": [
      "Couldn't find a metadata file... for\n",
      " Metadata object at vizdata/h206_push_proj_maps_027.hdf5\n",
      "projecting 98749 particles\n",
      "------------------------------------------\n",
      "------------------------------------------\n",
      "minmax(weightMap) 0.0 6.5209666e-15\n",
      "Fraction deposited: 1.0000002\n",
      "minmax(weightWeightedQuantityMap) 0.0 0.0\n",
      "-done\n",
      "inner_weight_along_los(GasStudio instance, None, 'Masses', None, 'logT'){} 5.98 s elapsed\n",
      "min_logT =  3\n",
      "max_logT =  8\n",
      "Image range (logT):  4.0995355 7.093813\n",
      "Image range (8bit):  56.07631 208.78447\n"
     ]
    },
    {
     "name": "stderr",
     "output_type": "stream",
     "text": [
      "\r",
      " 61%|██████    | 28/46 [03:54<02:39,  8.85s/it]"
     ]
    },
    {
     "name": "stdout",
     "output_type": "stream",
     "text": [
      "Couldn't find a metadata file... for\n",
      " Metadata object at vizdata/h206_push_proj_maps_028.hdf5\n",
      "projecting 86983 particles\n",
      "------------------------------------------\n",
      "------------------------------------------\n",
      "minmax(weightMap) 0.0 2.1889866e-15\n",
      "Fraction deposited: 0.9999999\n",
      "minmax(weightWeightedQuantityMap) 0.0 0.0\n",
      "-done\n",
      "inner_weight_along_los(GasStudio instance, None, 'Masses', None, 'logT'){} 5.85 s elapsed\n",
      "min_logT =  3\n",
      "max_logT =  8\n",
      "Image range (logT):  4.0107274 6.867262\n",
      "Image range (8bit):  51.5471 197.23036\n"
     ]
    },
    {
     "name": "stderr",
     "output_type": "stream",
     "text": [
      "\r",
      " 63%|██████▎   | 29/46 [04:03<02:28,  8.74s/it]"
     ]
    },
    {
     "name": "stdout",
     "output_type": "stream",
     "text": [
      "Couldn't find a metadata file... for\n",
      " Metadata object at vizdata/h206_push_proj_maps_029.hdf5\n",
      "projecting 78979 particles\n",
      "------------------------------------------\n",
      "------------------------------------------\n",
      "minmax(weightMap) 0.0 1.4116246e-15\n",
      "Fraction deposited: 1.0000001\n",
      "minmax(weightWeightedQuantityMap) 0.0 0.0\n",
      "-done\n",
      "inner_weight_along_los(GasStudio instance, None, 'Masses', None, 'logT'){} 5.67 s elapsed\n",
      "min_logT =  3\n",
      "max_logT =  8\n",
      "Image range (logT):  4.012799 6.671847\n",
      "Image range (8bit):  51.652737 187.26419\n"
     ]
    },
    {
     "name": "stderr",
     "output_type": "stream",
     "text": [
      "\r",
      " 65%|██████▌   | 30/46 [04:11<02:18,  8.64s/it]"
     ]
    },
    {
     "name": "stdout",
     "output_type": "stream",
     "text": [
      "Couldn't find a metadata file... for\n",
      " Metadata object at vizdata/h206_push_proj_maps_030.hdf5\n",
      "projecting 76096 particles\n",
      "------------------------------------------\n",
      "------------------------------------------\n",
      "minmax(weightMap) 0.0 2.05135e-15\n",
      "Fraction deposited: 1.0000001\n",
      "minmax(weightWeightedQuantityMap) 0.0 0.0\n",
      "-done\n",
      "inner_weight_along_los(GasStudio instance, None, 'Masses', None, 'logT'){} 5.48 s elapsed\n",
      "min_logT =  3\n",
      "max_logT =  8\n",
      "Image range (logT):  3.9658628 6.7799134\n",
      "Image range (8bit):  49.259 192.77559\n"
     ]
    },
    {
     "name": "stderr",
     "output_type": "stream",
     "text": [
      "\r",
      " 67%|██████▋   | 31/46 [04:19<02:07,  8.52s/it]"
     ]
    },
    {
     "name": "stdout",
     "output_type": "stream",
     "text": [
      "Couldn't find a metadata file... for\n",
      " Metadata object at vizdata/h206_push_proj_maps_031.hdf5\n",
      "projecting 86974 particles\n",
      "------------------------------------------\n",
      "------------------------------------------\n",
      "minmax(weightMap) 0.0 2.6423637e-15\n",
      "Fraction deposited: 1.0000004\n",
      "minmax(weightWeightedQuantityMap) 0.0 0.0\n",
      "-done\n",
      "inner_weight_along_los(GasStudio instance, None, 'Masses', None, 'logT'){} 5.76 s elapsed\n",
      "min_logT =  3\n",
      "max_logT =  8\n",
      "Image range (logT):  3.9402764 6.712791\n",
      "Image range (8bit):  47.954094 189.35234\n"
     ]
    },
    {
     "name": "stderr",
     "output_type": "stream",
     "text": [
      "\r",
      " 70%|██████▉   | 32/46 [04:28<01:58,  8.48s/it]"
     ]
    },
    {
     "name": "stdout",
     "output_type": "stream",
     "text": [
      "Couldn't find a metadata file... for\n",
      " Metadata object at vizdata/h206_push_proj_maps_032.hdf5\n",
      "projecting 90222 particles\n",
      "------------------------------------------\n",
      "------------------------------------------\n",
      "minmax(weightMap) 0.0 2.5587241e-15\n",
      "Fraction deposited: 0.99999976\n",
      "minmax(weightWeightedQuantityMap) 0.0 0.0\n",
      "-done\n",
      "inner_weight_along_los(GasStudio instance, None, 'Masses', None, 'logT'){} 6.00 s elapsed\n",
      "min_logT =  3\n",
      "max_logT =  8\n",
      "Image range (logT):  3.765704 6.851797\n",
      "Image range (8bit):  39.0509 196.44165\n"
     ]
    },
    {
     "name": "stderr",
     "output_type": "stream",
     "text": [
      "\r",
      " 72%|███████▏  | 33/46 [04:36<01:50,  8.51s/it]"
     ]
    },
    {
     "name": "stdout",
     "output_type": "stream",
     "text": [
      "Couldn't find a metadata file... for\n",
      " Metadata object at vizdata/h206_push_proj_maps_033.hdf5\n",
      "projecting 86536 particles\n",
      "------------------------------------------\n",
      "------------------------------------------\n",
      "minmax(weightMap) 0.0 3.4050161e-15\n",
      "Fraction deposited: 0.99999976\n",
      "minmax(weightWeightedQuantityMap) 0.0 0.0\n",
      "-done\n",
      "inner_weight_along_los(GasStudio instance, None, 'Masses', None, 'logT'){} 6.01 s elapsed\n",
      "min_logT =  3\n",
      "max_logT =  8\n",
      "Image range (logT):  3.9566934 6.6078176\n",
      "Image range (8bit):  48.791367 183.9987\n"
     ]
    },
    {
     "name": "stderr",
     "output_type": "stream",
     "text": [
      "\r",
      " 74%|███████▍  | 34/46 [04:45<01:42,  8.56s/it]"
     ]
    },
    {
     "name": "stdout",
     "output_type": "stream",
     "text": [
      "Couldn't find a metadata file... for\n",
      " Metadata object at vizdata/h206_push_proj_maps_034.hdf5\n",
      "projecting 80319 particles\n",
      "------------------------------------------\n",
      "------------------------------------------\n",
      "minmax(weightMap) 0.0 4.980166e-15\n",
      "Fraction deposited: 1.0000002\n",
      "minmax(weightWeightedQuantityMap) 0.0 0.0\n",
      "-done\n",
      "inner_weight_along_los(GasStudio instance, None, 'Masses', None, 'logT'){} 5.75 s elapsed\n",
      "min_logT =  3\n",
      "max_logT =  8\n",
      "Image range (logT):  3.715574 6.9169126\n",
      "Image range (8bit):  36.494274 199.76254\n"
     ]
    },
    {
     "name": "stderr",
     "output_type": "stream",
     "text": [
      "\r",
      " 76%|███████▌  | 35/46 [04:53<01:33,  8.48s/it]"
     ]
    },
    {
     "name": "stdout",
     "output_type": "stream",
     "text": [
      "Couldn't find a metadata file... for\n",
      " Metadata object at vizdata/h206_push_proj_maps_035.hdf5\n",
      "projecting 76258 particles\n",
      "------------------------------------------\n",
      "------------------------------------------\n",
      "minmax(weightMap) 0.0 5.0956276e-14\n",
      "Fraction deposited: 1.0\n",
      "minmax(weightWeightedQuantityMap) 0.0 0.0\n",
      "-done\n",
      "inner_weight_along_los(GasStudio instance, None, 'Masses', None, 'logT'){} 5.49 s elapsed\n",
      "min_logT =  3\n",
      "max_logT =  8\n",
      "Image range (logT):  1.549138 6.8757133\n",
      "Image range (8bit):  0.0 197.66138\n"
     ]
    },
    {
     "name": "stderr",
     "output_type": "stream",
     "text": [
      "\r",
      " 78%|███████▊  | 36/46 [05:01<01:23,  8.37s/it]"
     ]
    },
    {
     "name": "stdout",
     "output_type": "stream",
     "text": [
      "Couldn't find a metadata file... for\n",
      " Metadata object at vizdata/h206_push_proj_maps_036.hdf5\n",
      "projecting 73119 particles\n",
      "------------------------------------------\n",
      "------------------------------------------\n",
      "minmax(weightMap) 0.0 4.2218836e-14\n",
      "Fraction deposited: 1.0000001\n",
      "minmax(weightWeightedQuantityMap) 0.0 0.0\n",
      "-done\n",
      "inner_weight_along_los(GasStudio instance, None, 'Masses', None, 'logT'){} 5.54 s elapsed\n",
      "min_logT =  3\n",
      "max_logT =  8\n",
      "Image range (logT):  1.9152951 6.953529\n",
      "Image range (8bit):  0.0 201.62997\n"
     ]
    },
    {
     "name": "stderr",
     "output_type": "stream",
     "text": [
      "\r",
      " 80%|████████  | 37/46 [05:09<01:14,  8.30s/it]"
     ]
    },
    {
     "name": "stdout",
     "output_type": "stream",
     "text": [
      "Couldn't find a metadata file... for\n",
      " Metadata object at vizdata/h206_push_proj_maps_037.hdf5\n",
      "projecting 61242 particles\n",
      "------------------------------------------\n",
      "------------------------------------------\n",
      "minmax(weightMap) 0.0 3.9528178e-14\n",
      "Fraction deposited: 1.0000004\n",
      "minmax(weightWeightedQuantityMap) 0.0 0.0\n",
      "-done\n",
      "inner_weight_along_los(GasStudio instance, None, 'Masses', None, 'logT'){} 5.20 s elapsed\n",
      "min_logT =  3\n",
      "max_logT =  8\n",
      "Image range (logT):  1.6186843 7.278831\n",
      "Image range (8bit):  0.0 218.22038\n"
     ]
    },
    {
     "name": "stderr",
     "output_type": "stream",
     "text": [
      "\r",
      " 83%|████████▎ | 38/46 [05:17<01:05,  8.16s/it]"
     ]
    },
    {
     "name": "stdout",
     "output_type": "stream",
     "text": [
      "Couldn't find a metadata file... for\n",
      " Metadata object at vizdata/h206_push_proj_maps_038.hdf5\n",
      "projecting 58854 particles\n",
      "------------------------------------------\n",
      "------------------------------------------\n",
      "minmax(weightMap) 0.0 3.9788238e-14\n",
      "Fraction deposited: 1.0000002\n",
      "minmax(weightWeightedQuantityMap) 0.0 0.0\n",
      "-done\n",
      "inner_weight_along_los(GasStudio instance, None, 'Masses', None, 'logT'){} 5.19 s elapsed\n",
      "min_logT =  3\n",
      "max_logT =  8\n",
      "Image range (logT):  1.8408995 6.783298\n",
      "Image range (8bit):  0.0 192.94821\n"
     ]
    },
    {
     "name": "stderr",
     "output_type": "stream",
     "text": [
      "\r",
      " 85%|████████▍ | 39/46 [05:25<00:56,  8.05s/it]"
     ]
    },
    {
     "name": "stdout",
     "output_type": "stream",
     "text": [
      "Couldn't find a metadata file... for\n",
      " Metadata object at vizdata/h206_push_proj_maps_039.hdf5\n",
      "projecting 48856 particles\n",
      "------------------------------------------\n",
      "------------------------------------------\n",
      "minmax(weightMap) 0.0 5.4053767e-14\n",
      "Fraction deposited: 1.0000004\n",
      "minmax(weightWeightedQuantityMap) 0.0 0.0\n",
      "-done\n",
      "inner_weight_along_los(GasStudio instance, None, 'Masses', None, 'logT'){} 4.90 s elapsed\n",
      "min_logT =  3\n",
      "max_logT =  8\n",
      "Image range (logT):  1.7256846 7.021486\n",
      "Image range (8bit):  0.0 205.09578\n"
     ]
    },
    {
     "name": "stderr",
     "output_type": "stream",
     "text": [
      "\r",
      " 87%|████████▋ | 40/46 [05:32<00:47,  7.87s/it]"
     ]
    },
    {
     "name": "stdout",
     "output_type": "stream",
     "text": [
      "Couldn't find a metadata file... for\n",
      " Metadata object at vizdata/h206_push_proj_maps_040.hdf5\n",
      "projecting 36583 particles\n",
      "------------------------------------------\n",
      "------------------------------------------\n",
      "minmax(weightMap) 0.0 3.4382748e-14\n",
      "Fraction deposited: 1.0000004\n",
      "minmax(weightWeightedQuantityMap) 0.0 0.0\n",
      "-done\n",
      "inner_weight_along_los(GasStudio instance, None, 'Masses', None, 'logT'){} 4.37 s elapsed\n",
      "min_logT =  3\n",
      "max_logT =  8\n",
      "Image range (logT):  1.8110409 7.049114\n",
      "Image range (8bit):  0.0 206.50482\n"
     ]
    },
    {
     "name": "stderr",
     "output_type": "stream",
     "text": [
      "\r",
      " 89%|████████▉ | 41/46 [05:39<00:37,  7.58s/it]"
     ]
    },
    {
     "name": "stdout",
     "output_type": "stream",
     "text": [
      "Couldn't find a metadata file... for\n",
      " Metadata object at vizdata/h206_push_proj_maps_041.hdf5\n",
      "projecting 26531 particles\n",
      "------------------------------------------\n",
      "------------------------------------------\n",
      "minmax(weightMap) 0.0 1.8346672e-15\n",
      "Fraction deposited: 1.0\n",
      "minmax(weightWeightedQuantityMap) 0.0 0.0\n",
      "-done\n",
      "inner_weight_along_los(GasStudio instance, None, 'Masses', None, 'logT'){} 3.94 s elapsed\n",
      "min_logT =  3\n",
      "max_logT =  8\n",
      "Image range (logT):  4.1404285 7.1825724\n",
      "Image range (8bit):  58.161858 213.31119\n"
     ]
    },
    {
     "name": "stderr",
     "output_type": "stream",
     "text": [
      "\r",
      " 91%|█████████▏| 42/46 [05:46<00:29,  7.27s/it]"
     ]
    },
    {
     "name": "stdout",
     "output_type": "stream",
     "text": [
      "Couldn't find a metadata file... for\n",
      " Metadata object at vizdata/h206_push_proj_maps_042.hdf5\n",
      "projecting 18621 particles\n",
      "------------------------------------------\n",
      "------------------------------------------\n",
      "minmax(weightMap) 0.0 8.23739e-16\n",
      "Fraction deposited: 0.99999976\n",
      "minmax(weightWeightedQuantityMap) 0.0 0.0\n",
      "-done\n",
      "inner_weight_along_los(GasStudio instance, None, 'Masses', None, 'logT'){} 3.61 s elapsed\n",
      "min_logT =  3\n",
      "max_logT =  8\n",
      "Image range (logT):  4.3768005 7.0072327\n",
      "Image range (8bit):  70.21683 204.36887\n"
     ]
    },
    {
     "name": "stderr",
     "output_type": "stream",
     "text": [
      "\r",
      " 93%|█████████▎| 43/46 [05:52<00:20,  6.98s/it]"
     ]
    },
    {
     "name": "stdout",
     "output_type": "stream",
     "text": [
      "Couldn't find a metadata file... for\n",
      " Metadata object at vizdata/h206_push_proj_maps_043.hdf5\n",
      "projecting 14315 particles\n",
      "------------------------------------------\n",
      "------------------------------------------\n",
      "minmax(weightMap) 0.0 1.0710129e-16\n",
      "Fraction deposited: 0.9999998\n",
      "minmax(weightWeightedQuantityMap) 0.0 0.0\n",
      "-done\n",
      "inner_weight_along_los(GasStudio instance, None, 'Masses', None, 'logT'){} 3.64 s elapsed\n",
      "min_logT =  3\n",
      "max_logT =  8\n",
      "Image range (logT):  5.551844 6.845022\n",
      "Image range (8bit):  130.14404 196.09615\n"
     ]
    },
    {
     "name": "stderr",
     "output_type": "stream",
     "text": [
      "\r",
      " 96%|█████████▌| 44/46 [05:58<00:13,  6.74s/it]"
     ]
    },
    {
     "name": "stdout",
     "output_type": "stream",
     "text": [
      "Couldn't find a metadata file... for\n",
      " Metadata object at vizdata/h206_push_proj_maps_044.hdf5\n",
      "projecting 14072 particles\n",
      "------------------------------------------\n",
      "------------------------------------------\n",
      "minmax(weightMap) 0.0 6.2637954e-17\n",
      "Fraction deposited: 0.9999998\n",
      "minmax(weightWeightedQuantityMap) 0.0 0.0\n",
      "-done\n",
      "inner_weight_along_los(GasStudio instance, None, 'Masses', None, 'logT'){} 3.65 s elapsed\n",
      "min_logT =  3\n",
      "max_logT =  8\n",
      "Image range (logT):  6.1065683 6.83126\n",
      "Image range (8bit):  158.435 195.39427\n"
     ]
    },
    {
     "name": "stderr",
     "output_type": "stream",
     "text": [
      "\r",
      " 98%|█████████▊| 45/46 [06:05<00:06,  6.58s/it]"
     ]
    },
    {
     "name": "stdout",
     "output_type": "stream",
     "text": [
      "Couldn't find a metadata file... for\n",
      " Metadata object at vizdata/h206_push_proj_maps_045.hdf5\n",
      "projecting 13601 particles\n",
      "------------------------------------------\n",
      "------------------------------------------\n",
      "minmax(weightMap) 0.0 4.9318546e-17\n",
      "Fraction deposited: 1.0000004\n",
      "minmax(weightWeightedQuantityMap) 0.0 0.0\n",
      "-done\n",
      "inner_weight_along_los(GasStudio instance, None, 'Masses', None, 'logT'){} 3.65 s elapsed\n",
      "min_logT =  3\n",
      "max_logT =  8\n",
      "Image range (logT):  5.8244405 6.9272995\n",
      "Image range (8bit):  144.04646 200.29227\n"
     ]
    },
    {
     "name": "stderr",
     "output_type": "stream",
     "text": [
      "100%|██████████| 46/46 [06:11<00:00,  8.07s/it]\n"
     ]
    }
   ],
   "source": [
    "vizgen(p0_allsnaps_h206_jet, 'h206_jet')\n",
    "vizgen(p0_allsnaps_h206_spawn, 'h206_spawn')\n",
    "vizgen(p0_allsnaps_h206_push, 'h206_push')"
   ]
  },
  {
   "cell_type": "code",
   "execution_count": 10,
   "metadata": {},
   "outputs": [],
   "source": [
    "p0 = p0_allsnaps_h206_push[45]"
   ]
  },
  {
   "cell_type": "code",
   "execution_count": 20,
   "metadata": {},
   "outputs": [
    {
     "data": {
      "text/plain": [
       "{'fnames': ['/home/jovyan/fire2/AGN_suite/m13h206_m3e5/m13h206_m3e5_push_alpha10_gacc30_accf1_vw10000_cr1e-2_msd1e-8_sdp3e-3_mw4e-7_fa0.5_tw1e4_fmom1/output/snapshot_045.hdf5'],\n",
       " 'ParticleType': 0,\n",
       " 'BoxSize': 100000.0,\n",
       " 'CompactLevel': 0,\n",
       " 'Compactify_Version': 'v0.1',\n",
       " 'Flag_Cooling': 1,\n",
       " 'Flag_DoublePrecision': 0,\n",
       " 'Flag_Feedback': 1,\n",
       " 'Flag_IC_Info': 3,\n",
       " 'Flag_Metals': 15,\n",
       " 'Flag_Sfr': 1,\n",
       " 'Flag_StellarAge': 1,\n",
       " 'HubbleParam': 0.697,\n",
       " 'MassTable': array([0., 0., 0., 0., 0., 0.]),\n",
       " 'NumFilesPerSnapshot': 1,\n",
       " 'NumPart_ThisFile': [array([3951885, 4409128, 2864853,       0,  463274,      12], dtype=int32)],\n",
       " 'NumPart_Total': array([3951885, 4409128, 2864853,       0,  463274,      12], dtype=uint32),\n",
       " 'NumPart_Total_HighWord': array([0, 0, 0, 0, 0, 0], dtype=uint32),\n",
       " 'Omega0': 0.2821,\n",
       " 'OmegaLambda': 0.7179,\n",
       " 'ReadMe': 'This is a snapshot of FIREbox (PI: Feldmann) -- FIREbox is part of the Feedback in Realistic Environments (FIRE) project -- Use, modification, or distribution only permitted with approval of the PI and the core FIRE team -- No warranty, use at your own risk -- We acknowledge PRACE for awarding us access to MareNostrum at BSC (Barcelona)',\n",
       " 'Redshift': 0.9999999999999996,\n",
       " 'Time': 0.5000000000000001,\n",
       " 'Coordinates': array([[33918.76 , 37221.664, 36918.91 ],\n",
       "        [33921.33 , 37226.344, 36912.465],\n",
       "        [33915.81 , 37224.39 , 36914.64 ],\n",
       "        ...,\n",
       "        [33580.355, 36833.3  , 36793.418],\n",
       "        [33571.473, 36843.637, 36780.793],\n",
       "        [33562.777, 36846.277, 36786.363]], dtype=float32),\n",
       " 'Masses': array([2.6788302e-05, 2.7373206e-05, 2.6710512e-05, ..., 2.8731296e-05,\n",
       "        2.6776932e-05, 2.6710679e-05], dtype=float32),\n",
       " 'Metallicity': array([[3.1224240e-04, 2.5037554e-01, 5.5300308e-05, ..., 3.4921388e-08,\n",
       "         9.7375519e-10, 1.3014192e-09],\n",
       "        [7.6691707e-04, 2.5100780e-01, 1.5105575e-04, ..., 3.2626549e-08,\n",
       "         2.3255624e-09, 3.1413492e-09],\n",
       "        [3.0552101e-04, 2.5040010e-01, 6.0565209e-05, ..., 1.3370814e-08,\n",
       "         9.7234643e-10, 1.2921354e-09],\n",
       "        ...,\n",
       "        [1.4869338e-03, 2.5211689e-01, 3.2471033e-04, ..., 7.8204266e-08,\n",
       "         5.4177041e-09, 6.8941501e-09],\n",
       "        [6.1054790e-04, 2.5080776e-01, 1.2169493e-04, ..., 2.7169778e-08,\n",
       "         2.1278432e-09, 2.7670319e-09],\n",
       "        [7.9211598e-04, 2.5134459e-01, 2.1344653e-04, ..., 4.9035272e-08,\n",
       "         4.5765729e-09, 5.3328755e-09]], dtype=float32),\n",
       " 'SmoothingLength': array([10.088941 , 10.816998 , 10.5721445, ..., 29.46276  , 29.287285 ,\n",
       "        28.903336 ], dtype=float32),\n",
       " 'Temperature': array([1846788.9 , 1764113.9 , 1982577.4 , ...,  316939.06,  283008.16,\n",
       "         247610.4 ], dtype=float32),\n",
       " 'TimeGyr': 5.939402856509157,\n",
       " 'ScaleFactor': 0.5000000000000001,\n",
       " 'cosmological': 1,\n",
       " 'CoordinatesRelative': array([[  89.44531 ,   34.42578 ,  -59.339844],\n",
       "        [  92.01172 ,   39.10547 ,  -65.78516 ],\n",
       "        [  86.49219 ,   37.152344,  -63.609375],\n",
       "        ...,\n",
       "        [-248.96094 , -353.9375  , -184.83203 ],\n",
       "        [-257.84375 , -343.60156 , -197.45703 ],\n",
       "        [-266.53906 , -340.96094 , -191.88672 ]], dtype=float32)}"
      ]
     },
     "execution_count": 20,
     "metadata": {},
     "output_type": "execute_result"
    }
   ],
   "source": [
    "p0"
   ]
  },
  {
   "cell_type": "code",
   "execution_count": 12,
   "metadata": {},
   "outputs": [],
   "source": [
    "gaspart = {}\n",
    "gaspart['Coordinates'] = p0['CoordinatesRelative']\n",
    "gaspart['Masses'] = p0['Masses'] / 1.e10       # <- Putting the masses back into code units is only necessary if you'll be making stellar images (at least, in the version of FIREstudio I've been using)\n",
    "gaspart['Metallicity'] = p0['Metallicity']\n",
    "gaspart['SmoothingLength'] = p0['SmoothingLength']\n",
    "gaspart['BoxSize'] = 100\n",
    "gaspart['Temperature'] = p0['Temperature']\n",
    "gaspart['logT'] = np.log10(p0['Temperature'])"
   ]
  },
  {
   "cell_type": "code",
   "execution_count": 18,
   "metadata": {},
   "outputs": [],
   "source": [
    "gasStudio = GasStudio(\n",
    "    datadir='vizdata', \n",
    "    snapnum=45,\n",
    "    sim_name = 'h206_push',\n",
    "    gas_snapdict = gaspart,\n",
    "    frame_half_width = 50,\n",
    "    frame_half_thickness = 10,\n",
    "    loud=False)"
   ]
  },
  {
   "cell_type": "code",
   "execution_count": 19,
   "metadata": {},
   "outputs": [
    {
     "name": "stdout",
     "output_type": "stream",
     "text": [
      "projecting 7093 particles\n",
      "------------------------------------------\n",
      "------------------------------------------\n",
      "minmax(weightMap) 0.0 2.95386e-17\n",
      "Fraction deposited: 0.9999999\n",
      "minmax(weightWeightedQuantityMap) 0.0 0.0\n",
      "-done\n",
      "inner_weight_along_los(GasStudio instance, None, 'Masses', None, 'logT'){} 2.08 s elapsed\n",
      "min_logT =  3\n",
      "max_logT =  8\n",
      "Image range (logT):  6.1030602 6.9872403\n",
      "Image range (8bit):  158.25607 203.34924\n"
     ]
    },
    {
     "data": {
      "image/png": "[encoded data removed]",
      "text/plain": [
       "<Figure size 720x720 with 1 Axes>"
      ]
     },
     "metadata": {
      "needs_background": "light"
     },
     "output_type": "display_data"
    }
   ],
   "source": [
    "fig, ax = plt.subplots(1, 1, figsize=[4.8,4.8], dpi=150)\n",
    "tmin=3\n",
    "tmax=8\n",
    "\n",
    "gasStudio.render(ax=ax, \n",
    "                 weight_name='Masses',\n",
    "                 quantity_name='logT',\n",
    "                 min_quantity=tmin,\n",
    "                 max_quantity=tmax,\n",
    "                 cmap='plasma',\n",
    "                 use_metadata=False)\n",
    "\n",
    "plt.title('test')\n",
    "plt.show()"
   ]
  },
  {
   "cell_type": "code",
   "execution_count": null,
   "metadata": {},
   "outputs": [],
   "source": []
  }
 ],
 "metadata": {
  "kernelspec": {
   "display_name": "Python 3",
   "language": "python",
   "name": "python3"
  },
  "language_info": {
   "codemirror_mode": {
    "name": "ipython",
    "version": 3
   },
   "file_extension": ".py",
   "mimetype": "text/x-python",
   "name": "python",
   "nbconvert_exporter": "python",
   "pygments_lexer": "ipython3",
   "version": "3.7.8"
  }
 },
 "nbformat": 4,
 "nbformat_minor": 4
}
