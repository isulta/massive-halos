{
 "cells": [
  {
   "cell_type": "code",
   "execution_count": null,
   "id": "2805eb90-b0b0-4416-840b-69eb3f14da20",
   "metadata": {
    "tags": []
   },
   "outputs": [],
   "source": [
    "import numpy as np\n",
    "import matplotlib.pyplot as plt\n",
    "from abg_python.snapshot_utils import openSnapshot\n",
    "from abg_python.cosmo_utils import load_AHF\n",
    "from itk import inrange, loadpickle, pickle_save_dict, n_array_equal, sync_lim\n",
    "from numba import njit\n",
    "from tqdm import tqdm\n",
    "from glob import glob\n",
    "from os import path\n",
    "%matplotlib inline"
   ]
  },
  {
   "cell_type": "code",
   "execution_count": null,
   "id": "77a5a3a0-c682-48cb-a427-54158c43947b",
   "metadata": {},
   "outputs": [],
   "source": [
    "exec(open('scripts/halo_analysis_scripts.py').read())"
   ]
  },
  {
   "cell_type": "code",
   "execution_count": null,
   "id": "319565dd-4878-4b0e-9df4-89ed2d800581",
   "metadata": {},
   "outputs": [],
   "source": [
    "fig, axes = plt.subplots(4, 6, sharex=True, sharey='row', gridspec_kw={'wspace': .05, 'hspace':.03}, figsize=[4.8*6,4.8*4], dpi=150)\n",
    "cmaps = {'radfboff':plt.cm.Blues, 'good':plt.cm.Greens, 'CRsoff_veryhighradfb':plt.cm.Reds, 'veryslowwinds':plt.cm.Purples, 'CRsoff_veryfastwinds':plt.cm.Greys}\n",
    "indices = {'radfboff':1, 'good':0, 'CRsoff_veryhighradfb':2, 'veryslowwinds':3, 'CRsoff_veryfastwinds':4}\n",
    "#names = {'radfboff':'Radiative feedback off', 'good':'Good model', 'CRsoff_veryhighradfb':'', 'veryslowwinds':3, 'CRsoff_veryfastwinds':4}\n",
    "\n",
    "for model, simdir in Frontera_sims['push']['h206'].items():\n",
    "    if model=='CRsoff':\n",
    "        continue\n",
    "    simname = path.basename(simdir)\n",
    "    print(f'\\nComputing sim {simname}.')\n",
    "    i = indices[model]\n",
    "    \n",
    "    # Load profiles for all snapshots in each redshift bin\n",
    "    allprofiles = loadpickle(f'data/{simname}_allprofiles_widezbins.pkl')['allprofiles']\n",
    "    \n",
    "    # For each redshift bin, plot median rho, T, P_thermal, and e_CR profiles\n",
    "    plot_profiles_zbins(allprofiles, axes[0,0], cmap=cmaps[model], ylabel=True)\n",
    "    plot_profiles_zbins(allprofiles, axes[0,i+1], cmap=cmaps[model])\n",
    "\n",
    "    plot_profiles_zbins(allprofiles, axes[1,0], 'T lin', cmap=cmaps[model], ylabel=True)\n",
    "    plot_profiles_zbins(allprofiles, axes[1,i+1], 'T lin', cmap=cmaps[model])\n",
    "\n",
    "    plot_profiles_zbins(allprofiles, axes[2,0], 'P_th lin', cmap=cmaps[model], ylabel=True)\n",
    "    plot_profiles_zbins(allprofiles, axes[2,i+1], 'P_th lin', cmap=cmaps[model])\n",
    "\n",
    "    plot_profiles_zbins(allprofiles, axes[3,0], 'P_CR lin', cmap=cmaps[model], ylabel=True, xlabel=True)\n",
    "    plot_profiles_zbins(allprofiles, axes[3,i+1], 'P_CR lin', cmap=cmaps[model], xlabel=True)\n",
    "    \n",
    "    axes[0,i+1].legend()\n",
    "    axes[0,i+1].set_title(model)\n",
    "\n",
    "sync_lim(axes[2:4, 0], 'y')\n",
    "# plt.savefig(f'Figures/rho_Tlin_Pthermallin_PCRlin_profile_{\"h206_push_differentmodels\"}_AGN_widezbins.pdf')"
   ]
  },
  {
   "cell_type": "code",
   "execution_count": null,
   "id": "644229ae-53a1-4b84-b0f9-4a8928ffb738",
   "metadata": {},
   "outputs": [],
   "source": []
  }
 ],
 "metadata": {
  "kernelspec": {
   "display_name": "Python 3 (ipykernel)",
   "language": "python",
   "name": "python3"
  },
  "language_info": {
   "codemirror_mode": {
    "name": "ipython",
    "version": 3
   },
   "file_extension": ".py",
   "mimetype": "text/x-python",
   "name": "python",
   "nbconvert_exporter": "python",
   "pygments_lexer": "ipython3",
   "version": "3.9.6"
  }
 },
 "nbformat": 4,
 "nbformat_minor": 5
}
