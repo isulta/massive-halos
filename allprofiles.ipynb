{
 "cells": [
  {
   "cell_type": "code",
   "execution_count": 1,
   "metadata": {},
   "outputs": [],
   "source": [
    "import numpy as np\n",
    "import matplotlib.pyplot as plt\n",
    "from abg_python.snapshot_utils import openSnapshot\n",
    "from abg_python.cosmo_utils import load_AHF\n",
    "from itk.itk import inrange, loadpickle, pickle_save_dict\n",
    "from numba import njit"
   ]
  },
  {
   "cell_type": "code",
   "execution_count": 2,
   "metadata": {},
   "outputs": [],
   "source": [
    "exec(open('scripts/halo_analysis_scripts.py').read())"
   ]
  },
  {
   "cell_type": "code",
   "execution_count": 3,
   "metadata": {
    "collapsed": true,
    "jupyter": {
     "outputs_hidden": true
    }
   },
   "outputs": [
    {
     "name": "stdout",
     "output_type": "stream",
     "text": [
      "/projects/b1026/anglesd/FIRE/h206_HR_sn1dy300ro100ss/snapdir_187/snapshot_187.0.hdf5\n",
      "This is a cosmological snapshot... converting to physical units\n",
      "/projects/b1026/anglesd/FIRE/h206_HR_sn1dy300ro100ss/snapdir_187/snapshot_187.1.hdf5\n",
      "/projects/b1026/anglesd/FIRE/h206_HR_sn1dy300ro100ss/snapdir_187/snapshot_187.2.hdf5\n",
      "/projects/b1026/anglesd/FIRE/h206_HR_sn1dy300ro100ss/snapdir_187/snapshot_187.3.hdf5\n",
      "/projects/b1026/anglesd/FIRE/h206_HR_sn1dy300ro100ss/snapdir_187/snapshot_187.0.hdf5\n",
      "This is a cosmological snapshot... converting to physical units\n",
      "/projects/b1026/anglesd/FIRE/h206_HR_sn1dy300ro100ss/snapdir_187/snapshot_187.1.hdf5\n",
      "/projects/b1026/anglesd/FIRE/h206_HR_sn1dy300ro100ss/snapdir_187/snapshot_187.2.hdf5\n",
      "/projects/b1026/anglesd/FIRE/h206_HR_sn1dy300ro100ss/snapdir_187/snapshot_187.3.hdf5\n",
      "Loading redshift 1.799999681531304\n",
      "h206 167.4216218297942\n",
      "/projects/b1026/anglesd/FIRE/h29_HR_sn1dy300ro100ss/snapdir_187/snapshot_187.0.hdf5\n",
      "This is a cosmological snapshot... converting to physical units\n",
      "/projects/b1026/anglesd/FIRE/h29_HR_sn1dy300ro100ss/snapdir_187/snapshot_187.1.hdf5\n",
      "/projects/b1026/anglesd/FIRE/h29_HR_sn1dy300ro100ss/snapdir_187/snapshot_187.2.hdf5\n",
      "/projects/b1026/anglesd/FIRE/h29_HR_sn1dy300ro100ss/snapdir_187/snapshot_187.3.hdf5\n",
      "/projects/b1026/anglesd/FIRE/h29_HR_sn1dy300ro100ss/snapdir_187/snapshot_187.4.hdf5\n",
      "/projects/b1026/anglesd/FIRE/h29_HR_sn1dy300ro100ss/snapdir_187/snapshot_187.5.hdf5\n",
      "/projects/b1026/anglesd/FIRE/h29_HR_sn1dy300ro100ss/snapdir_187/snapshot_187.6.hdf5\n",
      "/projects/b1026/anglesd/FIRE/h29_HR_sn1dy300ro100ss/snapdir_187/snapshot_187.7.hdf5\n",
      "/projects/b1026/anglesd/FIRE/h29_HR_sn1dy300ro100ss/snapdir_187/snapshot_187.0.hdf5\n",
      "This is a cosmological snapshot... converting to physical units\n",
      "/projects/b1026/anglesd/FIRE/h29_HR_sn1dy300ro100ss/snapdir_187/snapshot_187.1.hdf5\n",
      "/projects/b1026/anglesd/FIRE/h29_HR_sn1dy300ro100ss/snapdir_187/snapshot_187.2.hdf5\n",
      "/projects/b1026/anglesd/FIRE/h29_HR_sn1dy300ro100ss/snapdir_187/snapshot_187.3.hdf5\n",
      "/projects/b1026/anglesd/FIRE/h29_HR_sn1dy300ro100ss/snapdir_187/snapshot_187.4.hdf5\n",
      "/projects/b1026/anglesd/FIRE/h29_HR_sn1dy300ro100ss/snapdir_187/snapshot_187.5.hdf5\n",
      "/projects/b1026/anglesd/FIRE/h29_HR_sn1dy300ro100ss/snapdir_187/snapshot_187.6.hdf5\n",
      "/projects/b1026/anglesd/FIRE/h29_HR_sn1dy300ro100ss/snapdir_187/snapshot_187.7.hdf5\n",
      "Loading redshift 1.799999681531304\n",
      "h29 186.2472029830862\n",
      "/projects/b1026/anglesd/FIRE/h113_HR_sn1dy300ro100ss/snapdir_187/snapshot_187.0.hdf5\n",
      "This is a cosmological snapshot... converting to physical units\n",
      "/projects/b1026/anglesd/FIRE/h113_HR_sn1dy300ro100ss/snapdir_187/snapshot_187.1.hdf5\n",
      "/projects/b1026/anglesd/FIRE/h113_HR_sn1dy300ro100ss/snapdir_187/snapshot_187.2.hdf5\n",
      "/projects/b1026/anglesd/FIRE/h113_HR_sn1dy300ro100ss/snapdir_187/snapshot_187.3.hdf5\n",
      "/projects/b1026/anglesd/FIRE/h113_HR_sn1dy300ro100ss/snapdir_187/snapshot_187.0.hdf5\n",
      "This is a cosmological snapshot... converting to physical units\n",
      "/projects/b1026/anglesd/FIRE/h113_HR_sn1dy300ro100ss/snapdir_187/snapshot_187.1.hdf5\n",
      "/projects/b1026/anglesd/FIRE/h113_HR_sn1dy300ro100ss/snapdir_187/snapshot_187.2.hdf5\n",
      "/projects/b1026/anglesd/FIRE/h113_HR_sn1dy300ro100ss/snapdir_187/snapshot_187.3.hdf5\n",
      "Loading redshift 1.7999996664480715\n",
      "h113 173.7036484851472\n",
      "/projects/b1026/anglesd/FIRE/h2_HR_sn1dy300ro100ss/snapdir_187/snapshot_187.0.hdf5\n",
      "This is a cosmological snapshot... converting to physical units\n",
      "/projects/b1026/anglesd/FIRE/h2_HR_sn1dy300ro100ss/snapdir_187/snapshot_187.1.hdf5\n",
      "/projects/b1026/anglesd/FIRE/h2_HR_sn1dy300ro100ss/snapdir_187/snapshot_187.2.hdf5\n",
      "/projects/b1026/anglesd/FIRE/h2_HR_sn1dy300ro100ss/snapdir_187/snapshot_187.3.hdf5\n",
      "/projects/b1026/anglesd/FIRE/h2_HR_sn1dy300ro100ss/snapdir_187/snapshot_187.0.hdf5\n",
      "This is a cosmological snapshot... converting to physical units\n",
      "/projects/b1026/anglesd/FIRE/h2_HR_sn1dy300ro100ss/snapdir_187/snapshot_187.1.hdf5\n",
      "/projects/b1026/anglesd/FIRE/h2_HR_sn1dy300ro100ss/snapdir_187/snapshot_187.2.hdf5\n",
      "/projects/b1026/anglesd/FIRE/h2_HR_sn1dy300ro100ss/snapdir_187/snapshot_187.3.hdf5\n",
      "Loading redshift 1.7999996702339836\n",
      "h2 129.25304784120868\n"
     ]
    }
   ],
   "source": [
    "# Quest (m13 no feedback)\n",
    "for sim in ['h206', 'h29', 'h113', 'h2']:\n",
    "    simname = sim + '_HR_sn1dy300ro100ss'\n",
    "    snapnum = 187\n",
    "    p0 = load_p0(f'/projects/b1026/anglesd/FIRE/{simname}', snapnum, ahf_path=f'/projects/b1026/halo_files/anglesd_m13/{simname}')\n",
    "    print(sim, p0['Rvir'])\n",
    "    profiles(p0, outfile=f'data/{simname}_{snapnum}.pkl');"
   ]
  },
  {
   "cell_type": "code",
   "execution_count": null,
   "metadata": {},
   "outputs": [],
   "source": []
  }
 ],
 "metadata": {
  "kernelspec": {
   "display_name": "Python 3",
   "language": "python",
   "name": "python3"
  },
  "language_info": {
   "codemirror_mode": {
    "name": "ipython",
    "version": 3
   },
   "file_extension": ".py",
   "mimetype": "text/x-python",
   "name": "python",
   "nbconvert_exporter": "python",
   "pygments_lexer": "ipython3",
   "version": "3.6.12"
  }
 },
 "nbformat": 4,
 "nbformat_minor": 4
}
